{
  "cells": [
    {
      "cell_type": "code",
      "execution_count": 1,
      "id": "9eeb591d",
      "metadata": {
        "id": "9eeb591d"
      },
      "outputs": [],
      "source": [
        "import pandas as pd\n",
        "import numpy as np"
      ]
    },
    {
      "cell_type": "markdown",
      "id": "36d073d1",
      "metadata": {
        "id": "36d073d1"
      },
      "source": [
        "### Prepare Dataset"
      ]
    },
    {
      "cell_type": "code",
      "execution_count": 2,
      "id": "b6c3f0ff",
      "metadata": {
        "id": "b6c3f0ff"
      },
      "outputs": [],
      "source": [
        "df = pd.read_csv('/content/adult.data', header=None,names=[\n",
        "    \"age\",\n",
        "    \"workclass\",\n",
        "    \"fnlwgt\",\n",
        "    \"education\",\n",
        "    \"education-num\",\n",
        "    \"marital-status\",\n",
        "    \"occupation\",\n",
        "    \"relationship\",\n",
        "    \"race\",\n",
        "    \"sex\",\n",
        "    \"capital-gain\",\n",
        "    \"capital-loss\",\n",
        "    \"hours-per-week\",\n",
        "    \"native-country\",\n",
        "    \"income\"\n",
        "]\n",
        " )"
      ]
    },
    {
      "cell_type": "code",
      "execution_count": 3,
      "id": "c2e7044a",
      "metadata": {
        "id": "c2e7044a",
        "outputId": "5eec22be-8001-4b8d-9668-b156f51b5e78",
        "colab": {
          "base_uri": "https://localhost:8080/",
          "height": 400
        }
      },
      "outputs": [
        {
          "output_type": "execute_result",
          "data": {
            "text/plain": [
              "   age          workclass  fnlwgt   education  education-num  \\\n",
              "0   39          State-gov   77516   Bachelors             13   \n",
              "1   50   Self-emp-not-inc   83311   Bachelors             13   \n",
              "2   38            Private  215646     HS-grad              9   \n",
              "3   53            Private  234721        11th              7   \n",
              "4   28            Private  338409   Bachelors             13   \n",
              "\n",
              "        marital-status          occupation    relationship    race      sex  \\\n",
              "0        Never-married        Adm-clerical   Not-in-family   White     Male   \n",
              "1   Married-civ-spouse     Exec-managerial         Husband   White     Male   \n",
              "2             Divorced   Handlers-cleaners   Not-in-family   White     Male   \n",
              "3   Married-civ-spouse   Handlers-cleaners         Husband   Black     Male   \n",
              "4   Married-civ-spouse      Prof-specialty            Wife   Black   Female   \n",
              "\n",
              "   capital-gain  capital-loss  hours-per-week  native-country  income  \n",
              "0          2174             0              40   United-States   <=50K  \n",
              "1             0             0              13   United-States   <=50K  \n",
              "2             0             0              40   United-States   <=50K  \n",
              "3             0             0              40   United-States   <=50K  \n",
              "4             0             0              40            Cuba   <=50K  "
            ],
            "text/html": [
              "\n",
              "  <div id=\"df-f5fb8f88-28df-4d09-a8c5-a4b1b4620663\" class=\"colab-df-container\">\n",
              "    <div>\n",
              "<style scoped>\n",
              "    .dataframe tbody tr th:only-of-type {\n",
              "        vertical-align: middle;\n",
              "    }\n",
              "\n",
              "    .dataframe tbody tr th {\n",
              "        vertical-align: top;\n",
              "    }\n",
              "\n",
              "    .dataframe thead th {\n",
              "        text-align: right;\n",
              "    }\n",
              "</style>\n",
              "<table border=\"1\" class=\"dataframe\">\n",
              "  <thead>\n",
              "    <tr style=\"text-align: right;\">\n",
              "      <th></th>\n",
              "      <th>age</th>\n",
              "      <th>workclass</th>\n",
              "      <th>fnlwgt</th>\n",
              "      <th>education</th>\n",
              "      <th>education-num</th>\n",
              "      <th>marital-status</th>\n",
              "      <th>occupation</th>\n",
              "      <th>relationship</th>\n",
              "      <th>race</th>\n",
              "      <th>sex</th>\n",
              "      <th>capital-gain</th>\n",
              "      <th>capital-loss</th>\n",
              "      <th>hours-per-week</th>\n",
              "      <th>native-country</th>\n",
              "      <th>income</th>\n",
              "    </tr>\n",
              "  </thead>\n",
              "  <tbody>\n",
              "    <tr>\n",
              "      <th>0</th>\n",
              "      <td>39</td>\n",
              "      <td>State-gov</td>\n",
              "      <td>77516</td>\n",
              "      <td>Bachelors</td>\n",
              "      <td>13</td>\n",
              "      <td>Never-married</td>\n",
              "      <td>Adm-clerical</td>\n",
              "      <td>Not-in-family</td>\n",
              "      <td>White</td>\n",
              "      <td>Male</td>\n",
              "      <td>2174</td>\n",
              "      <td>0</td>\n",
              "      <td>40</td>\n",
              "      <td>United-States</td>\n",
              "      <td>&lt;=50K</td>\n",
              "    </tr>\n",
              "    <tr>\n",
              "      <th>1</th>\n",
              "      <td>50</td>\n",
              "      <td>Self-emp-not-inc</td>\n",
              "      <td>83311</td>\n",
              "      <td>Bachelors</td>\n",
              "      <td>13</td>\n",
              "      <td>Married-civ-spouse</td>\n",
              "      <td>Exec-managerial</td>\n",
              "      <td>Husband</td>\n",
              "      <td>White</td>\n",
              "      <td>Male</td>\n",
              "      <td>0</td>\n",
              "      <td>0</td>\n",
              "      <td>13</td>\n",
              "      <td>United-States</td>\n",
              "      <td>&lt;=50K</td>\n",
              "    </tr>\n",
              "    <tr>\n",
              "      <th>2</th>\n",
              "      <td>38</td>\n",
              "      <td>Private</td>\n",
              "      <td>215646</td>\n",
              "      <td>HS-grad</td>\n",
              "      <td>9</td>\n",
              "      <td>Divorced</td>\n",
              "      <td>Handlers-cleaners</td>\n",
              "      <td>Not-in-family</td>\n",
              "      <td>White</td>\n",
              "      <td>Male</td>\n",
              "      <td>0</td>\n",
              "      <td>0</td>\n",
              "      <td>40</td>\n",
              "      <td>United-States</td>\n",
              "      <td>&lt;=50K</td>\n",
              "    </tr>\n",
              "    <tr>\n",
              "      <th>3</th>\n",
              "      <td>53</td>\n",
              "      <td>Private</td>\n",
              "      <td>234721</td>\n",
              "      <td>11th</td>\n",
              "      <td>7</td>\n",
              "      <td>Married-civ-spouse</td>\n",
              "      <td>Handlers-cleaners</td>\n",
              "      <td>Husband</td>\n",
              "      <td>Black</td>\n",
              "      <td>Male</td>\n",
              "      <td>0</td>\n",
              "      <td>0</td>\n",
              "      <td>40</td>\n",
              "      <td>United-States</td>\n",
              "      <td>&lt;=50K</td>\n",
              "    </tr>\n",
              "    <tr>\n",
              "      <th>4</th>\n",
              "      <td>28</td>\n",
              "      <td>Private</td>\n",
              "      <td>338409</td>\n",
              "      <td>Bachelors</td>\n",
              "      <td>13</td>\n",
              "      <td>Married-civ-spouse</td>\n",
              "      <td>Prof-specialty</td>\n",
              "      <td>Wife</td>\n",
              "      <td>Black</td>\n",
              "      <td>Female</td>\n",
              "      <td>0</td>\n",
              "      <td>0</td>\n",
              "      <td>40</td>\n",
              "      <td>Cuba</td>\n",
              "      <td>&lt;=50K</td>\n",
              "    </tr>\n",
              "  </tbody>\n",
              "</table>\n",
              "</div>\n",
              "    <div class=\"colab-df-buttons\">\n",
              "\n",
              "  <div class=\"colab-df-container\">\n",
              "    <button class=\"colab-df-convert\" onclick=\"convertToInteractive('df-f5fb8f88-28df-4d09-a8c5-a4b1b4620663')\"\n",
              "            title=\"Convert this dataframe to an interactive table.\"\n",
              "            style=\"display:none;\">\n",
              "\n",
              "  <svg xmlns=\"http://www.w3.org/2000/svg\" height=\"24px\" viewBox=\"0 -960 960 960\">\n",
              "    <path d=\"M120-120v-720h720v720H120Zm60-500h600v-160H180v160Zm220 220h160v-160H400v160Zm0 220h160v-160H400v160ZM180-400h160v-160H180v160Zm440 0h160v-160H620v160ZM180-180h160v-160H180v160Zm440 0h160v-160H620v160Z\"/>\n",
              "  </svg>\n",
              "    </button>\n",
              "\n",
              "  <style>\n",
              "    .colab-df-container {\n",
              "      display:flex;\n",
              "      gap: 12px;\n",
              "    }\n",
              "\n",
              "    .colab-df-convert {\n",
              "      background-color: #E8F0FE;\n",
              "      border: none;\n",
              "      border-radius: 50%;\n",
              "      cursor: pointer;\n",
              "      display: none;\n",
              "      fill: #1967D2;\n",
              "      height: 32px;\n",
              "      padding: 0 0 0 0;\n",
              "      width: 32px;\n",
              "    }\n",
              "\n",
              "    .colab-df-convert:hover {\n",
              "      background-color: #E2EBFA;\n",
              "      box-shadow: 0px 1px 2px rgba(60, 64, 67, 0.3), 0px 1px 3px 1px rgba(60, 64, 67, 0.15);\n",
              "      fill: #174EA6;\n",
              "    }\n",
              "\n",
              "    .colab-df-buttons div {\n",
              "      margin-bottom: 4px;\n",
              "    }\n",
              "\n",
              "    [theme=dark] .colab-df-convert {\n",
              "      background-color: #3B4455;\n",
              "      fill: #D2E3FC;\n",
              "    }\n",
              "\n",
              "    [theme=dark] .colab-df-convert:hover {\n",
              "      background-color: #434B5C;\n",
              "      box-shadow: 0px 1px 3px 1px rgba(0, 0, 0, 0.15);\n",
              "      filter: drop-shadow(0px 1px 2px rgba(0, 0, 0, 0.3));\n",
              "      fill: #FFFFFF;\n",
              "    }\n",
              "  </style>\n",
              "\n",
              "    <script>\n",
              "      const buttonEl =\n",
              "        document.querySelector('#df-f5fb8f88-28df-4d09-a8c5-a4b1b4620663 button.colab-df-convert');\n",
              "      buttonEl.style.display =\n",
              "        google.colab.kernel.accessAllowed ? 'block' : 'none';\n",
              "\n",
              "      async function convertToInteractive(key) {\n",
              "        const element = document.querySelector('#df-f5fb8f88-28df-4d09-a8c5-a4b1b4620663');\n",
              "        const dataTable =\n",
              "          await google.colab.kernel.invokeFunction('convertToInteractive',\n",
              "                                                    [key], {});\n",
              "        if (!dataTable) return;\n",
              "\n",
              "        const docLinkHtml = 'Like what you see? Visit the ' +\n",
              "          '<a target=\"_blank\" href=https://colab.research.google.com/notebooks/data_table.ipynb>data table notebook</a>'\n",
              "          + ' to learn more about interactive tables.';\n",
              "        element.innerHTML = '';\n",
              "        dataTable['output_type'] = 'display_data';\n",
              "        await google.colab.output.renderOutput(dataTable, element);\n",
              "        const docLink = document.createElement('div');\n",
              "        docLink.innerHTML = docLinkHtml;\n",
              "        element.appendChild(docLink);\n",
              "      }\n",
              "    </script>\n",
              "  </div>\n",
              "\n",
              "\n",
              "    <div id=\"df-20c6c419-1cd2-4e3a-9192-6b68103670d1\">\n",
              "      <button class=\"colab-df-quickchart\" onclick=\"quickchart('df-20c6c419-1cd2-4e3a-9192-6b68103670d1')\"\n",
              "                title=\"Suggest charts\"\n",
              "                style=\"display:none;\">\n",
              "\n",
              "<svg xmlns=\"http://www.w3.org/2000/svg\" height=\"24px\"viewBox=\"0 0 24 24\"\n",
              "     width=\"24px\">\n",
              "    <g>\n",
              "        <path d=\"M19 3H5c-1.1 0-2 .9-2 2v14c0 1.1.9 2 2 2h14c1.1 0 2-.9 2-2V5c0-1.1-.9-2-2-2zM9 17H7v-7h2v7zm4 0h-2V7h2v10zm4 0h-2v-4h2v4z\"/>\n",
              "    </g>\n",
              "</svg>\n",
              "      </button>\n",
              "\n",
              "<style>\n",
              "  .colab-df-quickchart {\n",
              "      --bg-color: #E8F0FE;\n",
              "      --fill-color: #1967D2;\n",
              "      --hover-bg-color: #E2EBFA;\n",
              "      --hover-fill-color: #174EA6;\n",
              "      --disabled-fill-color: #AAA;\n",
              "      --disabled-bg-color: #DDD;\n",
              "  }\n",
              "\n",
              "  [theme=dark] .colab-df-quickchart {\n",
              "      --bg-color: #3B4455;\n",
              "      --fill-color: #D2E3FC;\n",
              "      --hover-bg-color: #434B5C;\n",
              "      --hover-fill-color: #FFFFFF;\n",
              "      --disabled-bg-color: #3B4455;\n",
              "      --disabled-fill-color: #666;\n",
              "  }\n",
              "\n",
              "  .colab-df-quickchart {\n",
              "    background-color: var(--bg-color);\n",
              "    border: none;\n",
              "    border-radius: 50%;\n",
              "    cursor: pointer;\n",
              "    display: none;\n",
              "    fill: var(--fill-color);\n",
              "    height: 32px;\n",
              "    padding: 0;\n",
              "    width: 32px;\n",
              "  }\n",
              "\n",
              "  .colab-df-quickchart:hover {\n",
              "    background-color: var(--hover-bg-color);\n",
              "    box-shadow: 0 1px 2px rgba(60, 64, 67, 0.3), 0 1px 3px 1px rgba(60, 64, 67, 0.15);\n",
              "    fill: var(--button-hover-fill-color);\n",
              "  }\n",
              "\n",
              "  .colab-df-quickchart-complete:disabled,\n",
              "  .colab-df-quickchart-complete:disabled:hover {\n",
              "    background-color: var(--disabled-bg-color);\n",
              "    fill: var(--disabled-fill-color);\n",
              "    box-shadow: none;\n",
              "  }\n",
              "\n",
              "  .colab-df-spinner {\n",
              "    border: 2px solid var(--fill-color);\n",
              "    border-color: transparent;\n",
              "    border-bottom-color: var(--fill-color);\n",
              "    animation:\n",
              "      spin 1s steps(1) infinite;\n",
              "  }\n",
              "\n",
              "  @keyframes spin {\n",
              "    0% {\n",
              "      border-color: transparent;\n",
              "      border-bottom-color: var(--fill-color);\n",
              "      border-left-color: var(--fill-color);\n",
              "    }\n",
              "    20% {\n",
              "      border-color: transparent;\n",
              "      border-left-color: var(--fill-color);\n",
              "      border-top-color: var(--fill-color);\n",
              "    }\n",
              "    30% {\n",
              "      border-color: transparent;\n",
              "      border-left-color: var(--fill-color);\n",
              "      border-top-color: var(--fill-color);\n",
              "      border-right-color: var(--fill-color);\n",
              "    }\n",
              "    40% {\n",
              "      border-color: transparent;\n",
              "      border-right-color: var(--fill-color);\n",
              "      border-top-color: var(--fill-color);\n",
              "    }\n",
              "    60% {\n",
              "      border-color: transparent;\n",
              "      border-right-color: var(--fill-color);\n",
              "    }\n",
              "    80% {\n",
              "      border-color: transparent;\n",
              "      border-right-color: var(--fill-color);\n",
              "      border-bottom-color: var(--fill-color);\n",
              "    }\n",
              "    90% {\n",
              "      border-color: transparent;\n",
              "      border-bottom-color: var(--fill-color);\n",
              "    }\n",
              "  }\n",
              "</style>\n",
              "\n",
              "      <script>\n",
              "        async function quickchart(key) {\n",
              "          const quickchartButtonEl =\n",
              "            document.querySelector('#' + key + ' button');\n",
              "          quickchartButtonEl.disabled = true;  // To prevent multiple clicks.\n",
              "          quickchartButtonEl.classList.add('colab-df-spinner');\n",
              "          try {\n",
              "            const charts = await google.colab.kernel.invokeFunction(\n",
              "                'suggestCharts', [key], {});\n",
              "          } catch (error) {\n",
              "            console.error('Error during call to suggestCharts:', error);\n",
              "          }\n",
              "          quickchartButtonEl.classList.remove('colab-df-spinner');\n",
              "          quickchartButtonEl.classList.add('colab-df-quickchart-complete');\n",
              "        }\n",
              "        (() => {\n",
              "          let quickchartButtonEl =\n",
              "            document.querySelector('#df-20c6c419-1cd2-4e3a-9192-6b68103670d1 button');\n",
              "          quickchartButtonEl.style.display =\n",
              "            google.colab.kernel.accessAllowed ? 'block' : 'none';\n",
              "        })();\n",
              "      </script>\n",
              "    </div>\n",
              "\n",
              "    </div>\n",
              "  </div>\n"
            ],
            "application/vnd.google.colaboratory.intrinsic+json": {
              "type": "dataframe",
              "variable_name": "df",
              "summary": "{\n  \"name\": \"df\",\n  \"rows\": 32561,\n  \"fields\": [\n    {\n      \"column\": \"age\",\n      \"properties\": {\n        \"dtype\": \"number\",\n        \"std\": 13,\n        \"min\": 17,\n        \"max\": 90,\n        \"num_unique_values\": 73,\n        \"samples\": [\n          28,\n          73,\n          35\n        ],\n        \"semantic_type\": \"\",\n        \"description\": \"\"\n      }\n    },\n    {\n      \"column\": \"workclass\",\n      \"properties\": {\n        \"dtype\": \"category\",\n        \"num_unique_values\": 9,\n        \"samples\": [\n          \" Without-pay\",\n          \" Self-emp-not-inc\",\n          \" ?\"\n        ],\n        \"semantic_type\": \"\",\n        \"description\": \"\"\n      }\n    },\n    {\n      \"column\": \"fnlwgt\",\n      \"properties\": {\n        \"dtype\": \"number\",\n        \"std\": 105549,\n        \"min\": 12285,\n        \"max\": 1484705,\n        \"num_unique_values\": 21648,\n        \"samples\": [\n          128485,\n          469907,\n          235951\n        ],\n        \"semantic_type\": \"\",\n        \"description\": \"\"\n      }\n    },\n    {\n      \"column\": \"education\",\n      \"properties\": {\n        \"dtype\": \"category\",\n        \"num_unique_values\": 16,\n        \"samples\": [\n          \" Bachelors\",\n          \" HS-grad\",\n          \" Some-college\"\n        ],\n        \"semantic_type\": \"\",\n        \"description\": \"\"\n      }\n    },\n    {\n      \"column\": \"education-num\",\n      \"properties\": {\n        \"dtype\": \"number\",\n        \"std\": 2,\n        \"min\": 1,\n        \"max\": 16,\n        \"num_unique_values\": 16,\n        \"samples\": [\n          13,\n          9,\n          10\n        ],\n        \"semantic_type\": \"\",\n        \"description\": \"\"\n      }\n    },\n    {\n      \"column\": \"marital-status\",\n      \"properties\": {\n        \"dtype\": \"category\",\n        \"num_unique_values\": 7,\n        \"samples\": [\n          \" Never-married\",\n          \" Married-civ-spouse\",\n          \" Married-AF-spouse\"\n        ],\n        \"semantic_type\": \"\",\n        \"description\": \"\"\n      }\n    },\n    {\n      \"column\": \"occupation\",\n      \"properties\": {\n        \"dtype\": \"category\",\n        \"num_unique_values\": 15,\n        \"samples\": [\n          \" Machine-op-inspct\",\n          \" ?\",\n          \" Adm-clerical\"\n        ],\n        \"semantic_type\": \"\",\n        \"description\": \"\"\n      }\n    },\n    {\n      \"column\": \"relationship\",\n      \"properties\": {\n        \"dtype\": \"category\",\n        \"num_unique_values\": 6,\n        \"samples\": [\n          \" Not-in-family\",\n          \" Husband\",\n          \" Other-relative\"\n        ],\n        \"semantic_type\": \"\",\n        \"description\": \"\"\n      }\n    },\n    {\n      \"column\": \"race\",\n      \"properties\": {\n        \"dtype\": \"category\",\n        \"num_unique_values\": 5,\n        \"samples\": [\n          \" Black\",\n          \" Other\",\n          \" Asian-Pac-Islander\"\n        ],\n        \"semantic_type\": \"\",\n        \"description\": \"\"\n      }\n    },\n    {\n      \"column\": \"sex\",\n      \"properties\": {\n        \"dtype\": \"category\",\n        \"num_unique_values\": 2,\n        \"samples\": [\n          \" Female\",\n          \" Male\"\n        ],\n        \"semantic_type\": \"\",\n        \"description\": \"\"\n      }\n    },\n    {\n      \"column\": \"capital-gain\",\n      \"properties\": {\n        \"dtype\": \"number\",\n        \"std\": 7385,\n        \"min\": 0,\n        \"max\": 99999,\n        \"num_unique_values\": 119,\n        \"samples\": [\n          3781,\n          15831\n        ],\n        \"semantic_type\": \"\",\n        \"description\": \"\"\n      }\n    },\n    {\n      \"column\": \"capital-loss\",\n      \"properties\": {\n        \"dtype\": \"number\",\n        \"std\": 402,\n        \"min\": 0,\n        \"max\": 4356,\n        \"num_unique_values\": 92,\n        \"samples\": [\n          419,\n          2051\n        ],\n        \"semantic_type\": \"\",\n        \"description\": \"\"\n      }\n    },\n    {\n      \"column\": \"hours-per-week\",\n      \"properties\": {\n        \"dtype\": \"number\",\n        \"std\": 12,\n        \"min\": 1,\n        \"max\": 99,\n        \"num_unique_values\": 94,\n        \"samples\": [\n          6,\n          22\n        ],\n        \"semantic_type\": \"\",\n        \"description\": \"\"\n      }\n    },\n    {\n      \"column\": \"native-country\",\n      \"properties\": {\n        \"dtype\": \"category\",\n        \"num_unique_values\": 42,\n        \"samples\": [\n          \" El-Salvador\",\n          \" Philippines\"\n        ],\n        \"semantic_type\": \"\",\n        \"description\": \"\"\n      }\n    },\n    {\n      \"column\": \"income\",\n      \"properties\": {\n        \"dtype\": \"category\",\n        \"num_unique_values\": 2,\n        \"samples\": [\n          \" >50K\",\n          \" <=50K\"\n        ],\n        \"semantic_type\": \"\",\n        \"description\": \"\"\n      }\n    }\n  ]\n}"
            }
          },
          "metadata": {},
          "execution_count": 3
        }
      ],
      "source": [
        "df.head()"
      ]
    },
    {
      "cell_type": "code",
      "execution_count": 4,
      "id": "536839c0",
      "metadata": {
        "id": "536839c0"
      },
      "outputs": [],
      "source": [
        "df.dropna(inplace=True)"
      ]
    },
    {
      "cell_type": "code",
      "execution_count": 5,
      "id": "08f3d453",
      "metadata": {
        "id": "08f3d453",
        "outputId": "8c546216-edb9-4058-9276-c27c22cada11",
        "colab": {
          "base_uri": "https://localhost:8080/"
        }
      },
      "outputs": [
        {
          "output_type": "stream",
          "name": "stdout",
          "text": [
            "<class 'pandas.core.frame.DataFrame'>\n",
            "RangeIndex: 32561 entries, 0 to 32560\n",
            "Data columns (total 15 columns):\n",
            " #   Column          Non-Null Count  Dtype \n",
            "---  ------          --------------  ----- \n",
            " 0   age             32561 non-null  int64 \n",
            " 1   workclass       32561 non-null  object\n",
            " 2   fnlwgt          32561 non-null  int64 \n",
            " 3   education       32561 non-null  object\n",
            " 4   education-num   32561 non-null  int64 \n",
            " 5   marital-status  32561 non-null  object\n",
            " 6   occupation      32561 non-null  object\n",
            " 7   relationship    32561 non-null  object\n",
            " 8   race            32561 non-null  object\n",
            " 9   sex             32561 non-null  object\n",
            " 10  capital-gain    32561 non-null  int64 \n",
            " 11  capital-loss    32561 non-null  int64 \n",
            " 12  hours-per-week  32561 non-null  int64 \n",
            " 13  native-country  32561 non-null  object\n",
            " 14  income          32561 non-null  object\n",
            "dtypes: int64(6), object(9)\n",
            "memory usage: 3.7+ MB\n"
          ]
        }
      ],
      "source": [
        "df.info()"
      ]
    },
    {
      "cell_type": "markdown",
      "id": "9184ae00",
      "metadata": {
        "id": "9184ae00"
      },
      "source": [
        "### drop coloumns"
      ]
    },
    {
      "cell_type": "code",
      "execution_count": 6,
      "id": "3132e830",
      "metadata": {
        "id": "3132e830"
      },
      "outputs": [],
      "source": [
        "drop_columns = ['capital-gain', 'capital-loss', 'fnlwgt', 'education-num','income']\n",
        "\n",
        "'''\n",
        "# Drop unnecessary columns\n",
        "These columns are dropped as they are not needed as\n",
        "they may not contain any sensitive information.\n",
        "required for the local recoding anonymization process.\n",
        "'''\n",
        "df.drop(columns=drop_columns, inplace=True)"
      ]
    },
    {
      "cell_type": "code",
      "execution_count": 7,
      "id": "d9c81b94",
      "metadata": {
        "id": "d9c81b94",
        "outputId": "64deb18a-ecad-4cfc-9fe2-957e2eaa4ee6",
        "colab": {
          "base_uri": "https://localhost:8080/"
        }
      },
      "outputs": [
        {
          "output_type": "stream",
          "name": "stdout",
          "text": [
            "Number of columns after dropping unnecessary columns: 10\n"
          ]
        }
      ],
      "source": [
        "# count number of columns\n",
        "print(f\"Number of columns after dropping unnecessary columns: {len(df.columns)}\")"
      ]
    },
    {
      "cell_type": "code",
      "execution_count": 8,
      "id": "a699145c",
      "metadata": {
        "id": "a699145c",
        "outputId": "01623e93-e335-4ec7-edf0-458fd741fec1",
        "colab": {
          "base_uri": "https://localhost:8080/"
        }
      },
      "outputs": [
        {
          "output_type": "stream",
          "name": "stdout",
          "text": [
            "<class 'pandas.core.frame.DataFrame'>\n",
            "RangeIndex: 32561 entries, 0 to 32560\n",
            "Data columns (total 10 columns):\n",
            " #   Column          Non-Null Count  Dtype \n",
            "---  ------          --------------  ----- \n",
            " 0   age             32561 non-null  int64 \n",
            " 1   workclass       32561 non-null  object\n",
            " 2   education       32561 non-null  object\n",
            " 3   marital-status  32561 non-null  object\n",
            " 4   occupation      32561 non-null  object\n",
            " 5   relationship    32561 non-null  object\n",
            " 6   race            32561 non-null  object\n",
            " 7   sex             32561 non-null  object\n",
            " 8   hours-per-week  32561 non-null  int64 \n",
            " 9   native-country  32561 non-null  object\n",
            "dtypes: int64(2), object(8)\n",
            "memory usage: 2.5+ MB\n"
          ]
        }
      ],
      "source": [
        "df.info()"
      ]
    },
    {
      "cell_type": "code",
      "execution_count": 9,
      "id": "65160a8d",
      "metadata": {
        "id": "65160a8d",
        "outputId": "a334558d-d5fc-4d0c-e223-a3543fbf0586",
        "colab": {
          "base_uri": "https://localhost:8080/",
          "height": 415
        }
      },
      "outputs": [
        {
          "output_type": "stream",
          "name": "stdout",
          "text": [
            "Sensitive Attribute - workclass value counts:\n"
          ]
        },
        {
          "output_type": "execute_result",
          "data": {
            "text/plain": [
              "workclass\n",
              "Private             22696\n",
              "Self-emp-not-inc     2541\n",
              "Local-gov            2093\n",
              "?                    1836\n",
              "State-gov            1298\n",
              "Self-emp-inc         1116\n",
              "Federal-gov           960\n",
              "Without-pay            14\n",
              "Never-worked            7\n",
              "Name: count, dtype: int64"
            ],
            "text/html": [
              "<div>\n",
              "<style scoped>\n",
              "    .dataframe tbody tr th:only-of-type {\n",
              "        vertical-align: middle;\n",
              "    }\n",
              "\n",
              "    .dataframe tbody tr th {\n",
              "        vertical-align: top;\n",
              "    }\n",
              "\n",
              "    .dataframe thead th {\n",
              "        text-align: right;\n",
              "    }\n",
              "</style>\n",
              "<table border=\"1\" class=\"dataframe\">\n",
              "  <thead>\n",
              "    <tr style=\"text-align: right;\">\n",
              "      <th></th>\n",
              "      <th>count</th>\n",
              "    </tr>\n",
              "    <tr>\n",
              "      <th>workclass</th>\n",
              "      <th></th>\n",
              "    </tr>\n",
              "  </thead>\n",
              "  <tbody>\n",
              "    <tr>\n",
              "      <th>Private</th>\n",
              "      <td>22696</td>\n",
              "    </tr>\n",
              "    <tr>\n",
              "      <th>Self-emp-not-inc</th>\n",
              "      <td>2541</td>\n",
              "    </tr>\n",
              "    <tr>\n",
              "      <th>Local-gov</th>\n",
              "      <td>2093</td>\n",
              "    </tr>\n",
              "    <tr>\n",
              "      <th>?</th>\n",
              "      <td>1836</td>\n",
              "    </tr>\n",
              "    <tr>\n",
              "      <th>State-gov</th>\n",
              "      <td>1298</td>\n",
              "    </tr>\n",
              "    <tr>\n",
              "      <th>Self-emp-inc</th>\n",
              "      <td>1116</td>\n",
              "    </tr>\n",
              "    <tr>\n",
              "      <th>Federal-gov</th>\n",
              "      <td>960</td>\n",
              "    </tr>\n",
              "    <tr>\n",
              "      <th>Without-pay</th>\n",
              "      <td>14</td>\n",
              "    </tr>\n",
              "    <tr>\n",
              "      <th>Never-worked</th>\n",
              "      <td>7</td>\n",
              "    </tr>\n",
              "  </tbody>\n",
              "</table>\n",
              "</div><br><label><b>dtype:</b> int64</label>"
            ]
          },
          "metadata": {},
          "execution_count": 9
        }
      ],
      "source": [
        "print(\"Sensitive Attribute - workclass value counts:\")\n",
        "df['workclass'].value_counts()"
      ]
    },
    {
      "cell_type": "code",
      "execution_count": 10,
      "id": "c6976471",
      "metadata": {
        "id": "c6976471",
        "outputId": "b2a77fbf-7a6a-480e-aee9-fcad06e0c3a0",
        "colab": {
          "base_uri": "https://localhost:8080/"
        }
      },
      "outputs": [
        {
          "output_type": "stream",
          "name": "stdout",
          "text": [
            "Missing value representation in 'workclass':  ?\n"
          ]
        }
      ],
      "source": [
        "# Show the first row where 'workclass' contains '?'\n",
        "missing_value = df[df['workclass'].str.contains('?', regex=False)]['workclass'].head(1).values[0]\n",
        "print(f\"Missing value representation in 'workclass': {missing_value}\")"
      ]
    },
    {
      "cell_type": "code",
      "execution_count": 11,
      "id": "51102134",
      "metadata": {
        "id": "51102134",
        "outputId": "91baccde-dc9e-4f4f-bbd3-7e694340fcb0",
        "colab": {
          "base_uri": "https://localhost:8080/",
          "height": 335
        }
      },
      "outputs": [
        {
          "output_type": "execute_result",
          "data": {
            "text/plain": [
              "workclass\n",
              "Private             22286\n",
              "Self-emp-not-inc     2499\n",
              "Local-gov            2067\n",
              "State-gov            1279\n",
              "Self-emp-inc         1074\n",
              "Federal-gov           943\n",
              "Without-pay            14\n",
              "Name: count, dtype: int64"
            ],
            "text/html": [
              "<div>\n",
              "<style scoped>\n",
              "    .dataframe tbody tr th:only-of-type {\n",
              "        vertical-align: middle;\n",
              "    }\n",
              "\n",
              "    .dataframe tbody tr th {\n",
              "        vertical-align: top;\n",
              "    }\n",
              "\n",
              "    .dataframe thead th {\n",
              "        text-align: right;\n",
              "    }\n",
              "</style>\n",
              "<table border=\"1\" class=\"dataframe\">\n",
              "  <thead>\n",
              "    <tr style=\"text-align: right;\">\n",
              "      <th></th>\n",
              "      <th>count</th>\n",
              "    </tr>\n",
              "    <tr>\n",
              "      <th>workclass</th>\n",
              "      <th></th>\n",
              "    </tr>\n",
              "  </thead>\n",
              "  <tbody>\n",
              "    <tr>\n",
              "      <th>Private</th>\n",
              "      <td>22286</td>\n",
              "    </tr>\n",
              "    <tr>\n",
              "      <th>Self-emp-not-inc</th>\n",
              "      <td>2499</td>\n",
              "    </tr>\n",
              "    <tr>\n",
              "      <th>Local-gov</th>\n",
              "      <td>2067</td>\n",
              "    </tr>\n",
              "    <tr>\n",
              "      <th>State-gov</th>\n",
              "      <td>1279</td>\n",
              "    </tr>\n",
              "    <tr>\n",
              "      <th>Self-emp-inc</th>\n",
              "      <td>1074</td>\n",
              "    </tr>\n",
              "    <tr>\n",
              "      <th>Federal-gov</th>\n",
              "      <td>943</td>\n",
              "    </tr>\n",
              "    <tr>\n",
              "      <th>Without-pay</th>\n",
              "      <td>14</td>\n",
              "    </tr>\n",
              "  </tbody>\n",
              "</table>\n",
              "</div><br><label><b>dtype:</b> int64</label>"
            ]
          },
          "metadata": {},
          "execution_count": 11
        }
      ],
      "source": [
        "df.replace(missing_value,np.nan,inplace=True)\n",
        "df.dropna(inplace=True)\n",
        "df['workclass'].value_counts()\n",
        "\n"
      ]
    },
    {
      "cell_type": "code",
      "execution_count": 12,
      "id": "dd08af7a",
      "metadata": {
        "id": "dd08af7a",
        "outputId": "a76c02ed-b680-4da4-e845-d7b04df004ea",
        "colab": {
          "base_uri": "https://localhost:8080/",
          "height": 335
        }
      },
      "outputs": [
        {
          "output_type": "execute_result",
          "data": {
            "text/plain": [
              "marital-status\n",
              "Married-civ-spouse       14065\n",
              "Never-married             9726\n",
              "Divorced                  4214\n",
              "Separated                  939\n",
              "Widowed                    827\n",
              "Married-spouse-absent      370\n",
              "Married-AF-spouse           21\n",
              "Name: count, dtype: int64"
            ],
            "text/html": [
              "<div>\n",
              "<style scoped>\n",
              "    .dataframe tbody tr th:only-of-type {\n",
              "        vertical-align: middle;\n",
              "    }\n",
              "\n",
              "    .dataframe tbody tr th {\n",
              "        vertical-align: top;\n",
              "    }\n",
              "\n",
              "    .dataframe thead th {\n",
              "        text-align: right;\n",
              "    }\n",
              "</style>\n",
              "<table border=\"1\" class=\"dataframe\">\n",
              "  <thead>\n",
              "    <tr style=\"text-align: right;\">\n",
              "      <th></th>\n",
              "      <th>count</th>\n",
              "    </tr>\n",
              "    <tr>\n",
              "      <th>marital-status</th>\n",
              "      <th></th>\n",
              "    </tr>\n",
              "  </thead>\n",
              "  <tbody>\n",
              "    <tr>\n",
              "      <th>Married-civ-spouse</th>\n",
              "      <td>14065</td>\n",
              "    </tr>\n",
              "    <tr>\n",
              "      <th>Never-married</th>\n",
              "      <td>9726</td>\n",
              "    </tr>\n",
              "    <tr>\n",
              "      <th>Divorced</th>\n",
              "      <td>4214</td>\n",
              "    </tr>\n",
              "    <tr>\n",
              "      <th>Separated</th>\n",
              "      <td>939</td>\n",
              "    </tr>\n",
              "    <tr>\n",
              "      <th>Widowed</th>\n",
              "      <td>827</td>\n",
              "    </tr>\n",
              "    <tr>\n",
              "      <th>Married-spouse-absent</th>\n",
              "      <td>370</td>\n",
              "    </tr>\n",
              "    <tr>\n",
              "      <th>Married-AF-spouse</th>\n",
              "      <td>21</td>\n",
              "    </tr>\n",
              "  </tbody>\n",
              "</table>\n",
              "</div><br><label><b>dtype:</b> int64</label>"
            ]
          },
          "metadata": {},
          "execution_count": 12
        }
      ],
      "source": [
        "df['marital-status'].value_counts()"
      ]
    },
    {
      "cell_type": "code",
      "execution_count": 13,
      "id": "aeaec8ea",
      "metadata": {
        "id": "aeaec8ea",
        "outputId": "d318de64-00d1-478c-c7c6-06cd83352e96",
        "colab": {
          "base_uri": "https://localhost:8080/",
          "height": 1000
        }
      },
      "outputs": [
        {
          "output_type": "display_data",
          "data": {
            "text/plain": [
              "<Figure size 1000x500 with 1 Axes>"
            ],
            "image/png": "[encoded data removed]"
          },
          "metadata": {}
        },
        {
          "output_type": "display_data",
          "data": {
            "text/plain": [
              "<Figure size 1000x500 with 1 Axes>"
            ],
            "image/png": "[encoded data removed]"
          },
          "metadata": {}
        },
        {
          "output_type": "display_data",
          "data": {
            "text/plain": [
              "<Figure size 1000x500 with 1 Axes>"
            ],
            "image/png": "[encoded data removed]"
          },
          "metadata": {}
        },
        {
          "output_type": "display_data",
          "data": {
            "text/plain": [
              "<Figure size 1000x500 with 1 Axes>"
            ],
            "image/png": "[encoded data removed]"
          },
          "metadata": {}
        },
        {
          "output_type": "display_data",
          "data": {
            "text/plain": [
              "<Figure size 1000x500 with 1 Axes>"
            ],
            "image/png": "[encoded data removed]"
          },
          "metadata": {}
        },
        {
          "output_type": "display_data",
          "data": {
            "text/plain": [
              "<Figure size 1000x500 with 1 Axes>"
            ],
            "image/png": "[encoded data removed]"
          },
          "metadata": {}
        },
        {
          "output_type": "display_data",
          "data": {
            "text/plain": [
              "<Figure size 1000x500 with 1 Axes>"
            ],
            "image/png": "[encoded data removed]"
          },
          "metadata": {}
        },
        {
          "output_type": "display_data",
          "data": {
            "text/plain": [
              "<Figure size 1000x500 with 1 Axes>"
            ],
            "image/png": "[encoded data removed]"
          },
          "metadata": {}
        },
        {
          "output_type": "display_data",
          "data": {
            "text/plain": [
              "<Figure size 1000x500 with 1 Axes>"
            ],
            "image/png": "[encoded data removed]"
          },
          "metadata": {}
        },
        {
          "output_type": "display_data",
          "data": {
            "text/plain": [
              "<Figure size 1000x500 with 1 Axes>"
            ],
            "image/png": "[encoded data removed]"
          },
          "metadata": {}
        }
      ],
      "source": [
        "#plot the distribution of every column\n",
        "import matplotlib.pyplot as plt\n",
        "for column in df.columns:\n",
        "    plt.figure(figsize=(10,5))\n",
        "    df[column].value_counts().plot(kind='bar')\n",
        "    plt.title(f'Distribution of {column}')\n",
        "    plt.xlabel(column)\n",
        "    plt.ylabel('Count')\n",
        "    plt.show()"
      ]
    },
    {
      "cell_type": "markdown",
      "id": "c88ae4a9",
      "metadata": {
        "id": "c88ae4a9"
      },
      "source": [
        "# Algorithm 2"
      ]
    },
    {
      "cell_type": "code",
      "execution_count": 14,
      "id": "05e73290",
      "metadata": {
        "id": "05e73290",
        "outputId": "712d76ee-88c5-42a5-96e1-812fe38b7cba",
        "colab": {
          "base_uri": "https://localhost:8080/"
        }
      },
      "outputs": [
        {
          "output_type": "stream",
          "name": "stdout",
          "text": [
            "Unique values in age: [39, 50, 38, 53, 28, 37, 49, 52, 31, 42, 30, 23, 32, 34, 25, 43, 40, 54, 35, 59, 56, 19, 20, 45, 22, 48, 21, 24, 57, 44, 41, 29, 47, 46, 36, 79, 27, 18, 33, 76, 55, 61, 70, 64, 71, 66, 51, 58, 26, 17, 60, 90, 75, 65, 77, 62, 63, 67, 74, 72, 69, 68, 73, 81, 78, 88, 80, 84, 83, 85, 82, 86]\n",
            "Unique values in workclass: [' State-gov', ' Self-emp-not-inc', ' Private', ' Federal-gov', ' Local-gov', ' Self-emp-inc', ' Without-pay']\n",
            "Unique values in education: [' Bachelors', ' HS-grad', ' 11th', ' Masters', ' 9th', ' Some-college', ' Assoc-acdm', ' 7th-8th', ' Doctorate', ' Assoc-voc', ' Prof-school', ' 5th-6th', ' 10th', ' Preschool', ' 12th', ' 1st-4th']\n",
            "Unique values in marital-status: [' Never-married', ' Married-civ-spouse', ' Divorced', ' Married-spouse-absent', ' Separated', ' Married-AF-spouse', ' Widowed']\n",
            "Unique values in occupation: [' Adm-clerical', ' Exec-managerial', ' Handlers-cleaners', ' Prof-specialty', ' Other-service', ' Sales', ' Transport-moving', ' Farming-fishing', ' Machine-op-inspct', ' Tech-support', ' Craft-repair', ' Protective-serv', ' Armed-Forces', ' Priv-house-serv']\n",
            "Unique values in relationship: [' Not-in-family', ' Husband', ' Wife', ' Own-child', ' Unmarried', ' Other-relative']\n",
            "Unique values in race: [' White', ' Black', ' Asian-Pac-Islander', ' Amer-Indian-Eskimo', ' Other']\n",
            "Unique values in sex: [' Male', ' Female']\n",
            "Unique values in hours-per-week: [40, 13, 16, 45, 50, 80, 30, 35, 60, 20, 52, 44, 15, 25, 43, 38, 55, 48, 58, 32, 70, 22, 56, 41, 28, 36, 24, 46, 2, 42, 12, 65, 1, 34, 75, 98, 33, 54, 10, 6, 64, 19, 18, 72, 8, 9, 47, 37, 21, 26, 14, 5, 7, 99, 53, 39, 62, 59, 57, 78, 90, 66, 11, 49, 84, 17, 68, 3, 27, 85, 31, 51, 77, 63, 23, 4, 87, 88, 73, 89, 97, 94, 29, 96, 67, 82, 86, 91, 81, 76, 92, 61, 74, 95]\n",
            "Unique values in native-country: [' United-States', ' Cuba', ' Jamaica', ' India', ' Mexico', ' Puerto-Rico', ' Honduras', ' England', ' Canada', ' Germany', ' Iran', ' Philippines', ' Poland', ' Columbia', ' Cambodia', ' Thailand', ' Ecuador', ' Laos', ' Taiwan', ' Haiti', ' Portugal', ' Dominican-Republic', ' El-Salvador', ' France', ' Guatemala', ' Italy', ' China', ' South', ' Japan', ' Yugoslavia', ' Peru', ' Outlying-US(Guam-USVI-etc)', ' Scotland', ' Trinadad&Tobago', ' Greece', ' Nicaragua', ' Vietnam', ' Hong', ' Ireland', ' Hungary', ' Holand-Netherlands']\n"
          ]
        }
      ],
      "source": [
        "#save unqiq values of each column to as a string array\n",
        "unique_values = {}\n",
        "for column in df.columns:\n",
        "    unique_values[column] = df[column].unique().tolist()\n",
        "    print(f\"Unique values in {column}: {unique_values[column]}\")\n"
      ]
    },
    {
      "cell_type": "code",
      "execution_count": 15,
      "id": "68ddcc79",
      "metadata": {
        "id": "68ddcc79",
        "outputId": "2e2a36cb-f5e2-4198-d234-89ae8d6c8eef",
        "colab": {
          "base_uri": "https://localhost:8080/"
        }
      },
      "outputs": [
        {
          "output_type": "execute_result",
          "data": {
            "text/plain": [
              "{'workclass': {'Government': ['Federal-gov', 'State-gov', 'Local-gov'],\n",
              "  'Self-Employed': ['Self-emp-inc', 'Self-emp-not-inc'],\n",
              "  'Private Sector': ['Private'],\n",
              "  'Other': ['Without-pay']},\n",
              " 'education': {'Preschool': {'Preschool': {'Preschool': ['Preschool']}},\n",
              "  'Primary': {'Lower Primary': {'1st-4th': ['1st-4th']},\n",
              "   'Upper Primary': {'5th-6th': ['5th-6th']}},\n",
              "  'Secondary': {'Junior': {'9th': ['9th'], '10th': ['10th']},\n",
              "   'Senior': {'11th': ['11th'], '12th': ['12th'], 'HS-grad': ['HS-grad']}},\n",
              "  'Post-Secondary': {'College': {'Some-college': ['Some-college'],\n",
              "    'Assoc-acdm': ['Assoc-acdm'],\n",
              "    'Assoc-voc': ['Assoc-voc']},\n",
              "   'University': {'Bachelor': ['Bachelors'],\n",
              "    'Graduate': ['Masters', 'Doctorate', 'Prof-school']}}},\n",
              " 'marital-status': {'Married': ['Married-civ-spouse',\n",
              "   'Married-spouse-absent',\n",
              "   'Married-AF-spouse'],\n",
              "  'Single': ['Never-married'],\n",
              "  'Divorced/Separated/Widowed': ['Divorced', 'Separated', 'Widowed']},\n",
              " 'occupation': {'Management & Administration': ['Exec-managerial',\n",
              "   'Adm-clerical'],\n",
              "  'Professional / Technical': ['Prof-specialty',\n",
              "   'Tech-support',\n",
              "   'Protective-serv'],\n",
              "  'Sales & Service': ['Sales', 'Other-service', 'Priv-house-serv'],\n",
              "  'Labor / Manual': ['Handlers-cleaners',\n",
              "   'Machine-op-inspct',\n",
              "   'Craft-repair',\n",
              "   'Farming-fishing',\n",
              "   'Transport-moving'],\n",
              "  'Military': ['Armed-Forces']},\n",
              " 'relationship': {'Family': ['Husband', 'Wife', 'Own-child', 'Other-relative'],\n",
              "  'Non-Family': ['Not-in-family', 'Unmarried']},\n",
              " 'race': ['White',\n",
              "  'Black',\n",
              "  'Asian-Pac-Islander',\n",
              "  'Amer-Indian-Eskimo',\n",
              "  'Other'],\n",
              " 'sex': ['Male', 'Female'],\n",
              " 'native-country': {'North America': ['United-States',\n",
              "   'Canada',\n",
              "   'Mexico',\n",
              "   'Puerto-Rico',\n",
              "   'Outlying-US(Guam-USVI-etc)',\n",
              "   'Honduras'],\n",
              "  'Central & South America': ['Cuba',\n",
              "   'Jamaica',\n",
              "   'Columbia',\n",
              "   'Ecuador',\n",
              "   'El-Salvador',\n",
              "   'Guatemala',\n",
              "   'Haiti',\n",
              "   'Nicaragua',\n",
              "   'Peru',\n",
              "   'Trinadad&Tobago'],\n",
              "  'Europe': ['England',\n",
              "   'France',\n",
              "   'Germany',\n",
              "   'Greece',\n",
              "   'Hungary',\n",
              "   'Ireland',\n",
              "   'Italy',\n",
              "   'Poland',\n",
              "   'Portugal',\n",
              "   'Scotland',\n",
              "   'Yugoslavia',\n",
              "   'Holand-Netherlands'],\n",
              "  'Asia': ['India',\n",
              "   'Iran',\n",
              "   'China',\n",
              "   'Japan',\n",
              "   'Taiwan',\n",
              "   'Thailand',\n",
              "   'Cambodia',\n",
              "   'Laos',\n",
              "   'Vietnam',\n",
              "   'Hong',\n",
              "   'South']}}"
            ]
          },
          "metadata": {},
          "execution_count": 15
        }
      ],
      "source": [
        "import json\n",
        "\n",
        "with open('taxonomy-tree.json', 'r') as f:\n",
        "    taxonomy_dict = json.load(f)\n",
        "\n",
        "# Display the dictionary\n",
        "taxonomy_dict"
      ]
    },
    {
      "cell_type": "code",
      "execution_count": 16,
      "id": "99677652",
      "metadata": {
        "id": "99677652",
        "outputId": "d204d2fc-0778-4819-acf3-35bfd75086ac",
        "colab": {
          "base_uri": "https://localhost:8080/"
        }
      },
      "outputs": [
        {
          "output_type": "stream",
          "name": "stdout",
          "text": [
            "Federal-gov: ['Federal-gov', 'Government', 'workclass']\n",
            "State-gov: ['State-gov', 'Government', 'workclass']\n",
            "Local-gov: ['Local-gov', 'Government', 'workclass']\n",
            "Self-emp-inc: ['Self-emp-inc', 'Self-Employed', 'workclass']\n",
            "Self-emp-not-inc: ['Self-emp-not-inc', 'Self-Employed', 'workclass']\n",
            "Private: ['Private', 'Private Sector', 'workclass']\n",
            "Without-pay: ['Without-pay', 'Other', 'workclass']\n",
            "Preschool: ['Preschool', 'Preschool', 'Preschool', 'Preschool', 'education']\n",
            "1st-4th: ['1st-4th', '1st-4th', 'Lower Primary', 'Primary', 'education']\n",
            "5th-6th: ['5th-6th', '5th-6th', 'Upper Primary', 'Primary', 'education']\n",
            "9th: ['9th', '9th', 'Junior', 'Secondary', 'education']\n",
            "10th: ['10th', '10th', 'Junior', 'Secondary', 'education']\n",
            "11th: ['11th', '11th', 'Senior', 'Secondary', 'education']\n",
            "12th: ['12th', '12th', 'Senior', 'Secondary', 'education']\n",
            "HS-grad: ['HS-grad', 'HS-grad', 'Senior', 'Secondary', 'education']\n",
            "Some-college: ['Some-college', 'Some-college', 'College', 'Post-Secondary', 'education']\n",
            "Assoc-acdm: ['Assoc-acdm', 'Assoc-acdm', 'College', 'Post-Secondary', 'education']\n",
            "Assoc-voc: ['Assoc-voc', 'Assoc-voc', 'College', 'Post-Secondary', 'education']\n",
            "Bachelors: ['Bachelors', 'Bachelor', 'University', 'Post-Secondary', 'education']\n",
            "Masters: ['Masters', 'Graduate', 'University', 'Post-Secondary', 'education']\n",
            "Doctorate: ['Doctorate', 'Graduate', 'University', 'Post-Secondary', 'education']\n",
            "Prof-school: ['Prof-school', 'Graduate', 'University', 'Post-Secondary', 'education']\n",
            "Married-civ-spouse: ['Married-civ-spouse', 'Married', 'marital-status']\n",
            "Married-spouse-absent: ['Married-spouse-absent', 'Married', 'marital-status']\n",
            "Married-AF-spouse: ['Married-AF-spouse', 'Married', 'marital-status']\n",
            "Never-married: ['Never-married', 'Single', 'marital-status']\n",
            "Divorced: ['Divorced', 'Divorced/Separated/Widowed', 'marital-status']\n",
            "Separated: ['Separated', 'Divorced/Separated/Widowed', 'marital-status']\n",
            "Widowed: ['Widowed', 'Divorced/Separated/Widowed', 'marital-status']\n",
            "Exec-managerial: ['Exec-managerial', 'Management & Administration', 'occupation']\n",
            "Adm-clerical: ['Adm-clerical', 'Management & Administration', 'occupation']\n",
            "Prof-specialty: ['Prof-specialty', 'Professional / Technical', 'occupation']\n",
            "Tech-support: ['Tech-support', 'Professional / Technical', 'occupation']\n",
            "Protective-serv: ['Protective-serv', 'Professional / Technical', 'occupation']\n",
            "Sales: ['Sales', 'Sales & Service', 'occupation']\n",
            "Other-service: ['Other-service', 'Sales & Service', 'occupation']\n",
            "Priv-house-serv: ['Priv-house-serv', 'Sales & Service', 'occupation']\n",
            "Handlers-cleaners: ['Handlers-cleaners', 'Labor / Manual', 'occupation']\n",
            "Machine-op-inspct: ['Machine-op-inspct', 'Labor / Manual', 'occupation']\n",
            "Craft-repair: ['Craft-repair', 'Labor / Manual', 'occupation']\n",
            "Farming-fishing: ['Farming-fishing', 'Labor / Manual', 'occupation']\n",
            "Transport-moving: ['Transport-moving', 'Labor / Manual', 'occupation']\n",
            "Armed-Forces: ['Armed-Forces', 'Military', 'occupation']\n",
            "Husband: ['Husband', 'Family', 'relationship']\n",
            "Wife: ['Wife', 'Family', 'relationship']\n",
            "Own-child: ['Own-child', 'Family', 'relationship']\n",
            "Other-relative: ['Other-relative', 'Family', 'relationship']\n",
            "Not-in-family: ['Not-in-family', 'Non-Family', 'relationship']\n",
            "Unmarried: ['Unmarried', 'Non-Family', 'relationship']\n",
            "White: ['White', 'race']\n",
            "Black: ['Black', 'race']\n",
            "Asian-Pac-Islander: ['Asian-Pac-Islander', 'race']\n",
            "Amer-Indian-Eskimo: ['Amer-Indian-Eskimo', 'race']\n",
            "Other: ['Other', 'race']\n",
            "Male: ['Male', 'sex']\n",
            "Female: ['Female', 'sex']\n",
            "United-States: ['United-States', 'North America', 'native-country']\n",
            "Canada: ['Canada', 'North America', 'native-country']\n",
            "Mexico: ['Mexico', 'North America', 'native-country']\n",
            "Puerto-Rico: ['Puerto-Rico', 'North America', 'native-country']\n",
            "Outlying-US(Guam-USVI-etc): ['Outlying-US(Guam-USVI-etc)', 'North America', 'native-country']\n",
            "Honduras: ['Honduras', 'North America', 'native-country']\n",
            "Cuba: ['Cuba', 'Central & South America', 'native-country']\n",
            "Jamaica: ['Jamaica', 'Central & South America', 'native-country']\n",
            "Columbia: ['Columbia', 'Central & South America', 'native-country']\n",
            "Ecuador: ['Ecuador', 'Central & South America', 'native-country']\n",
            "El-Salvador: ['El-Salvador', 'Central & South America', 'native-country']\n",
            "Guatemala: ['Guatemala', 'Central & South America', 'native-country']\n",
            "Haiti: ['Haiti', 'Central & South America', 'native-country']\n",
            "Nicaragua: ['Nicaragua', 'Central & South America', 'native-country']\n",
            "Peru: ['Peru', 'Central & South America', 'native-country']\n",
            "Trinadad&Tobago: ['Trinadad&Tobago', 'Central & South America', 'native-country']\n",
            "England: ['England', 'Europe', 'native-country']\n",
            "France: ['France', 'Europe', 'native-country']\n",
            "Germany: ['Germany', 'Europe', 'native-country']\n",
            "Greece: ['Greece', 'Europe', 'native-country']\n",
            "Hungary: ['Hungary', 'Europe', 'native-country']\n",
            "Ireland: ['Ireland', 'Europe', 'native-country']\n",
            "Italy: ['Italy', 'Europe', 'native-country']\n",
            "Poland: ['Poland', 'Europe', 'native-country']\n",
            "Portugal: ['Portugal', 'Europe', 'native-country']\n",
            "Scotland: ['Scotland', 'Europe', 'native-country']\n",
            "Yugoslavia: ['Yugoslavia', 'Europe', 'native-country']\n",
            "Holand-Netherlands: ['Holand-Netherlands', 'Europe', 'native-country']\n",
            "India: ['India', 'Asia', 'native-country']\n",
            "Iran: ['Iran', 'Asia', 'native-country']\n",
            "China: ['China', 'Asia', 'native-country']\n",
            "Japan: ['Japan', 'Asia', 'native-country']\n",
            "Taiwan: ['Taiwan', 'Asia', 'native-country']\n",
            "Thailand: ['Thailand', 'Asia', 'native-country']\n",
            "Cambodia: ['Cambodia', 'Asia', 'native-country']\n",
            "Laos: ['Laos', 'Asia', 'native-country']\n",
            "Vietnam: ['Vietnam', 'Asia', 'native-country']\n",
            "Hong: ['Hong', 'Asia', 'native-country']\n",
            "South: ['South', 'Asia', 'native-country']\n"
          ]
        }
      ],
      "source": [
        "#invert the taxonomy dictionary to get child to parent mapping\n",
        "def invert_taxonomy_tree(taxonomy, path=[]):\n",
        "    inverted_taxonomy_tree = {}\n",
        "    for key in taxonomy:\n",
        "\n",
        "\n",
        "        extended_path = [key] + path\n",
        "        # if(key == \"workclass\"):\n",
        "        #     print(taxonomy[key])\n",
        "        #     print(path)\n",
        "        # print(f\"Current key: {key}, Current path: {path}\")\n",
        "        if isinstance(taxonomy[key], dict):\n",
        "            result = invert_taxonomy_tree(taxonomy[key], extended_path)\n",
        "            inverted_taxonomy_tree.update(result)\n",
        "            # if(key == \"workclass\"):\n",
        "            #     print(inverted_taxonomy_tree)\n",
        "\n",
        "        if isinstance(taxonomy[key], list):\n",
        "            for item in taxonomy[key]:\n",
        "                inverted_taxonomy_tree[item] = [item] + extended_path\n",
        "\n",
        "        # path = []\n",
        "    return inverted_taxonomy_tree\n",
        "\n",
        "inverted_taxonomy_tree = invert_taxonomy_tree(taxonomy_dict, [])\n",
        "for key in inverted_taxonomy_tree:\n",
        "    print(f\"{key}: {inverted_taxonomy_tree[key]}\")\n"
      ]
    },
    {
      "cell_type": "markdown",
      "id": "b7cbdfd0",
      "metadata": {
        "id": "b7cbdfd0"
      },
      "source": [
        "## Provenence Set"
      ]
    },
    {
      "cell_type": "code",
      "execution_count": 17,
      "id": "559ba2f9",
      "metadata": {
        "id": "559ba2f9"
      },
      "outputs": [],
      "source": [
        "def provenance(values):\n",
        "    result = []\n",
        "    for value in values:\n",
        "        mapping = inverted_taxonomy_tree.get(value, None)\n",
        "        if mapping:\n",
        "            result = result + mapping[:-1]  # Exclude the original value\n",
        "    return result\n"
      ]
    },
    {
      "cell_type": "code",
      "execution_count": 18,
      "id": "b27497e6",
      "metadata": {
        "id": "b27497e6",
        "outputId": "aa4c6fb9-32bd-4708-8108-9b52a1fc9a8e",
        "colab": {
          "base_uri": "https://localhost:8080/"
        }
      },
      "outputs": [
        {
          "output_type": "execute_result",
          "data": {
            "text/plain": [
              "array([39, ' State-gov', ' Bachelors', ' Never-married', ' Adm-clerical',\n",
              "       ' Not-in-family', ' White', ' Male', 40, ' United-States'],\n",
              "      dtype=object)"
            ]
          },
          "metadata": {},
          "execution_count": 18
        }
      ],
      "source": [
        "df.head(1).values[0]"
      ]
    },
    {
      "cell_type": "code",
      "execution_count": 19,
      "id": "dfea502b",
      "metadata": {
        "id": "dfea502b"
      },
      "outputs": [],
      "source": [
        "\n",
        "first_row = list(df.head(1).values[0])\n",
        "first_row = [s.strip() for s in first_row if isinstance(s, str)]\n"
      ]
    },
    {
      "cell_type": "code",
      "execution_count": 20,
      "id": "3626cd9f",
      "metadata": {
        "id": "3626cd9f",
        "outputId": "ec19674f-52de-4f43-bad6-31e3576b5c3c",
        "colab": {
          "base_uri": "https://localhost:8080/"
        }
      },
      "outputs": [
        {
          "output_type": "execute_result",
          "data": {
            "text/plain": [
              "['State-gov',\n",
              " 'Government',\n",
              " 'Bachelors',\n",
              " 'Bachelor',\n",
              " 'University',\n",
              " 'Post-Secondary',\n",
              " 'Never-married',\n",
              " 'Single',\n",
              " 'Adm-clerical',\n",
              " 'Management & Administration',\n",
              " 'Not-in-family',\n",
              " 'Non-Family',\n",
              " 'White',\n",
              " 'Male',\n",
              " 'United-States',\n",
              " 'North America']"
            ]
          },
          "metadata": {},
          "execution_count": 20
        }
      ],
      "source": [
        "provenance(first_row)"
      ]
    },
    {
      "cell_type": "code",
      "execution_count": 21,
      "id": "5fb13663",
      "metadata": {
        "id": "5fb13663"
      },
      "outputs": [],
      "source": [
        "education_tree = {\n",
        "        \"Secondary\": {\n",
        "            \"Junior\": [\"9th\", \"10th\"],\n",
        "            \"Senior\": [\"11th\", \"12th\"]\n",
        "        },\n",
        "        \"University\": {\n",
        "            \"Bachelor\": [\"Bachelor\"],\n",
        "            \"Graduate\": [\"Master\", \"Doctorate\"]\n",
        "        }\n",
        "}\n",
        "\n",
        "# education_tree = {\n",
        "#     \"Any_Education\": [\"hello\"]\n",
        "# }\n"
      ]
    },
    {
      "cell_type": "markdown",
      "id": "265fcc91",
      "metadata": {
        "id": "265fcc91"
      },
      "source": [
        "## Algorith 2 characteristic_vector_converting"
      ]
    },
    {
      "cell_type": "code",
      "execution_count": 22,
      "id": "adbcb4a4",
      "metadata": {
        "id": "adbcb4a4"
      },
      "outputs": [],
      "source": [
        "def characteristic_vector_converting(taxonomy_tree, values, inverted_taxonomy_tree):\n",
        "    characteristic_vector = []\n",
        "    # print(f\"Values to process for characteristic vector: {values}\")\n",
        "    for val in values:\n",
        "        # print(f\"Processing value: {val}\")\n",
        "        last_value = inverted_taxonomy_tree[val][-1]\n",
        "        # print(f\"Processing value: {val}, Last value in taxonomy path: {last_value}\")\n",
        "        # Get the values in the inverted taxonomy tree that have key as the last value\n",
        "        arr = []\n",
        "        for k in inverted_taxonomy_tree:\n",
        "            mapping = inverted_taxonomy_tree[k]\n",
        "            if mapping and mapping[-1] == last_value:\n",
        "                arr.append(mapping[:-1])  # Exclude the original value\n",
        "\n",
        "        arr = np.array(arr)\n",
        "        # print(arr.shape)\n",
        "        # print(arr)\n",
        "        # for each column in arr\n",
        "        # print(arr.shape[1])\n",
        "        provenance_set = provenance([val])\n",
        "        for col in range(len(provenance_set)):  # every column except last column\n",
        "            # Get the unique values in the column\n",
        "            coloumn_values = arr[:, col]\n",
        "            unique_values = np.unique(coloumn_values)\n",
        "            # print(f\"Unique values in column {provenance_set[col]}: {unique_values}\")\n",
        "            # print(f\"Value to encode: {unique_values[0]}\")\n",
        "            vector = [0] * len(unique_values)\n",
        "            # print(val)\n",
        "            index = np.where(unique_values == provenance_set[col])[0][0]\n",
        "            # print(f\"Index of value {val} in unique values: {index}\")\n",
        "            vector[index] = 1\n",
        "            characteristic_vector.extend(vector)\n",
        "            # Do something with the vector\n",
        "    return characteristic_vector\n"
      ]
    },
    {
      "cell_type": "code",
      "execution_count": 23,
      "id": "6ed52076",
      "metadata": {
        "id": "6ed52076",
        "outputId": "9640771e-074d-40ca-a777-f6c16a20e4b9",
        "colab": {
          "base_uri": "https://localhost:8080/"
        }
      },
      "outputs": [
        {
          "output_type": "execute_result",
          "data": {
            "text/plain": [
              "['Male', 'United-States']"
            ]
          },
          "metadata": {},
          "execution_count": 23
        }
      ],
      "source": [
        "first_row[-2:]"
      ]
    },
    {
      "cell_type": "code",
      "execution_count": 24,
      "id": "4ad644f0",
      "metadata": {
        "id": "4ad644f0",
        "outputId": "b3992856-7de5-40e7-f000-3f8aa8123a9a",
        "colab": {
          "base_uri": "https://localhost:8080/"
        }
      },
      "outputs": [
        {
          "output_type": "execute_result",
          "data": {
            "text/plain": [
              "[0,\n",
              " 0,\n",
              " 0,\n",
              " 0,\n",
              " 0,\n",
              " 1,\n",
              " 0,\n",
              " 1,\n",
              " 0,\n",
              " 0,\n",
              " 0,\n",
              " 0,\n",
              " 0,\n",
              " 0,\n",
              " 0,\n",
              " 0,\n",
              " 0,\n",
              " 0,\n",
              " 0,\n",
              " 1,\n",
              " 0,\n",
              " 0,\n",
              " 0,\n",
              " 0,\n",
              " 0,\n",
              " 0,\n",
              " 0,\n",
              " 0,\n",
              " 0,\n",
              " 0,\n",
              " 0,\n",
              " 0,\n",
              " 0,\n",
              " 0,\n",
              " 1,\n",
              " 0,\n",
              " 0,\n",
              " 0,\n",
              " 0,\n",
              " 0,\n",
              " 0,\n",
              " 0,\n",
              " 0,\n",
              " 0,\n",
              " 1,\n",
              " 0,\n",
              " 1,\n",
              " 0,\n",
              " 0,\n",
              " 0,\n",
              " 0,\n",
              " 0,\n",
              " 0,\n",
              " 0,\n",
              " 1,\n",
              " 0,\n",
              " 0,\n",
              " 0,\n",
              " 0,\n",
              " 1,\n",
              " 1,\n",
              " 0,\n",
              " 0,\n",
              " 0,\n",
              " 0,\n",
              " 0,\n",
              " 0,\n",
              " 0,\n",
              " 0,\n",
              " 0,\n",
              " 0,\n",
              " 0,\n",
              " 0,\n",
              " 0,\n",
              " 0,\n",
              " 1,\n",
              " 0,\n",
              " 0,\n",
              " 0,\n",
              " 0,\n",
              " 1,\n",
              " 0,\n",
              " 0,\n",
              " 0,\n",
              " 0,\n",
              " 0,\n",
              " 1,\n",
              " 0,\n",
              " 0,\n",
              " 0,\n",
              " 0,\n",
              " 1,\n",
              " 0,\n",
              " 1,\n",
              " 0,\n",
              " 0,\n",
              " 0,\n",
              " 0,\n",
              " 0,\n",
              " 0,\n",
              " 0,\n",
              " 0,\n",
              " 0,\n",
              " 0,\n",
              " 0,\n",
              " 0,\n",
              " 0,\n",
              " 0,\n",
              " 0,\n",
              " 0,\n",
              " 0,\n",
              " 0,\n",
              " 0,\n",
              " 0,\n",
              " 0,\n",
              " 0,\n",
              " 0,\n",
              " 0,\n",
              " 0,\n",
              " 0,\n",
              " 0,\n",
              " 0,\n",
              " 0,\n",
              " 0,\n",
              " 0,\n",
              " 0,\n",
              " 0,\n",
              " 0,\n",
              " 0,\n",
              " 0,\n",
              " 1,\n",
              " 0,\n",
              " 0,\n",
              " 0,\n",
              " 0,\n",
              " 0,\n",
              " 1]"
            ]
          },
          "metadata": {},
          "execution_count": 24
        }
      ],
      "source": [
        "characteristic_vector_converting(taxonomy_dict, first_row, inverted_taxonomy_tree)"
      ]
    },
    {
      "cell_type": "markdown",
      "id": "8m25lFVOVtak",
      "metadata": {
        "id": "8m25lFVOVtak"
      },
      "source": [
        "# Experiment parameters"
      ]
    },
    {
      "cell_type": "code",
      "execution_count": 25,
      "id": "19d50866",
      "metadata": {
        "id": "19d50866"
      },
      "outputs": [],
      "source": [
        "import random"
      ]
    },
    {
      "cell_type": "code",
      "execution_count": 26,
      "id": "Ab7D2MrUVwkI",
      "metadata": {
        "id": "Ab7D2MrUVwkI"
      },
      "outputs": [],
      "source": [
        "# k=??\n",
        "# theta=??\n",
        "alpha=10"
      ]
    },
    {
      "cell_type": "markdown",
      "id": "hQC_6hJyBj4U",
      "metadata": {
        "id": "hQC_6hJyBj4U"
      },
      "source": [
        "# Creating set of hash functions (universal use)"
      ]
    },
    {
      "cell_type": "code",
      "execution_count": 27,
      "id": "_OIyoKu0BdKF",
      "metadata": {
        "id": "_OIyoKu0BdKF"
      },
      "outputs": [],
      "source": [
        "\n",
        "# creates set F of hash functions Hash functions in F are in\n",
        "#  the form of h(x)=(ax+b) mod NPrime, where a and b are\n",
        "#  random integers, and NPrime is the smallest prime number\n",
        "#  larger than |U|.\n",
        "\n",
        "# F is a list of hash functions\n",
        "# Each hash function h takes an input x (row index in the characteristic vector)\n",
        "# and outputs a hashed value modulo a large prime number.\n",
        "# Example: h(x) = (a * x + b) % N_prime\n",
        "U=len(characteristic_vector_converting(taxonomy_dict, first_row, inverted_taxonomy_tree))\n",
        "random.seed(42)\n",
        "def create_hash_fam(num_hashes,U_size):\n",
        "  def is_prime(n):\n",
        "    if n<2:\n",
        "      return False\n",
        "\n",
        "    for i in range(2,int(n**0.5)+1):\n",
        "      if n%i==0:\n",
        "        return False\n",
        "    return True\n",
        "\n",
        "  def next_prime(n):\n",
        "    while not is_prime(n):\n",
        "      n=n+1\n",
        "    return n\n",
        "\n",
        "  N_prime=next_prime(U_size +1)\n",
        "\n",
        "  F=[]\n",
        "\n",
        "  for i in range(num_hashes):\n",
        "    a=random.randint(1,N_prime-1)\n",
        "    b=random.randint(0,N_prime-1)\n",
        "    h = lambda x, a=a, b=b, N_prime=N_prime: (a * x + b) % N_prime\n",
        "    F.append(h)\n",
        "  return F\n",
        "F = create_hash_fam(num_hashes=alpha, U_size=U)"
      ]
    },
    {
      "cell_type": "markdown",
      "id": "XOmPRuyq3mcW",
      "metadata": {
        "id": "XOmPRuyq3mcW"
      },
      "source": [
        "# Algorithm 4"
      ]
    },
    {
      "cell_type": "code",
      "execution_count": 28,
      "metadata": {
        "id": "lpOm88awI6iX"
      },
      "outputs": [],
      "source": [
        "import random"
      ],
      "id": "lpOm88awI6iX"
    },
    {
      "cell_type": "code",
      "execution_count": 29,
      "id": "SejYHmSw886B",
      "metadata": {
        "id": "SejYHmSw886B"
      },
      "outputs": [],
      "source": [
        "from math import inf\n",
        "###ALGORITHM 4\n",
        "def minhash(characteristic_vec,h_ab):\n",
        "  min_hash=float('inf')\n",
        "  for i,bit in enumerate(characteristic_vec):\n",
        "      if bit==1:\n",
        "        index=h_ab(i+1)\n",
        "        if index<min_hash:\n",
        "          min_hash=index\n",
        "\n",
        "  return min_hash\n"
      ]
    },
    {
      "cell_type": "code",
      "execution_count": 30,
      "id": "zHzUpaaMFY-3",
      "metadata": {
        "colab": {
          "base_uri": "https://localhost:8080/"
        },
        "id": "zHzUpaaMFY-3",
        "outputId": "663c5890-621f-4f8c-a965-34426fc7184b"
      },
      "outputs": [
        {
          "output_type": "stream",
          "name": "stdout",
          "text": [
            "4 16\n"
          ]
        }
      ],
      "source": [
        "# testing algo 4\n",
        "# h_ab=F[random.randint(0,len(F)-1)]\n",
        "characteristic_vec_eg=characteristic_vector_converting(taxonomy_dict, first_row, inverted_taxonomy_tree)\n",
        "second_row = list(df.values[100])\n",
        "second_row = [s.strip() for s in second_row if isinstance(s, str)]\n",
        "vec1=characteristic_vector_converting(taxonomy_dict, first_row, inverted_taxonomy_tree)\n",
        "vec2=characteristic_vector_converting(taxonomy_dict, second_row, inverted_taxonomy_tree)\n",
        "min_hash1_val = minhash(vec1,F[2])\n",
        "min_hash2_val= minhash(vec2,F[2])\n",
        "\n",
        "print(min_hash1_val,min_hash2_val)"
      ]
    },
    {
      "cell_type": "markdown",
      "source": [],
      "metadata": {
        "id": "w1iTX3O13QqV"
      },
      "id": "w1iTX3O13QqV"
    },
    {
      "cell_type": "markdown",
      "source": [
        "## TAXONOMY Helper funcs"
      ],
      "metadata": {
        "id": "DBnHSaK3wIy4"
      },
      "id": "DBnHSaK3wIy4"
    },
    {
      "cell_type": "code",
      "execution_count": 30,
      "id": "kJnupqZtGB1q",
      "metadata": {
        "id": "kJnupqZtGB1q"
      },
      "outputs": [],
      "source": [
        "\n"
      ]
    },
    {
      "cell_type": "code",
      "execution_count": 31,
      "id": "5mXL2Tb8UG41",
      "metadata": {
        "id": "5mXL2Tb8UG41"
      },
      "outputs": [],
      "source": [
        "# find the least common ancestor\n",
        "def find_lca(v1, v2, inverted_taxonomy_tree):\n",
        "  if v1 == v2:\n",
        "    return v1\n",
        "\n",
        "# get paths for both values\n",
        "  path1 = inverted_taxonomy_tree.get(v1, [])\n",
        "  path2 = inverted_taxonomy_tree.get(v2, [])\n",
        "\n",
        "  if not path1 or not path2:\n",
        "    return None #different attributes have no common ancestor\n",
        "\n",
        "  if path1[-1] != path2[-1]:\n",
        "    return None\n",
        "\n",
        "  # compare paths to find the lca\"\n",
        "  lca = None\n",
        "  min_len = min(len(path1), len(path2))\n",
        "\n",
        "  for i in range(1, min_len):\n",
        "    idx = -i - 1\n",
        "    if path1[idx] == path2[idx]:\n",
        "      lca = path1[idx]\n",
        "    else:\n",
        "      break\n",
        "\n",
        "  return lca\n",
        "\n",
        "def get_tree_height(attr_name, inverted_taxonomy_tree):\n",
        "\n",
        "  max_height = 0\n",
        "\n",
        "  for value, path in inverted_taxonomy_tree.items():\n",
        "        # Check if this value belongs to the attribute\n",
        "      if path and path[-1] == attr_name:\n",
        "            # Height = length of path minus 1 (exclude attribute name root)\n",
        "          height = len(path) - 1\n",
        "          max_height = max(max_height, height)\n",
        "\n",
        "  return max_height\n",
        "\n",
        "def path_length_between(v1, v2, inverted_taxonomy_tree):\n",
        "\n",
        "    if v1 == v2:\n",
        "        return 0\n",
        "\n",
        "    lca = find_lca(v1, v2, inverted_taxonomy_tree)\n",
        "\n",
        "    if lca is None:\n",
        "        # No common ancestor meaning different attributes or invalid\n",
        "        return float('inf')\n",
        "\n",
        "    path1 = inverted_taxonomy_tree.get(v1, [])\n",
        "    path2 = inverted_taxonomy_tree.get(v2, [])\n",
        "\n",
        "    # Find distance from v1 to LCA\n",
        "    # Count steps from v1 (index 0) to LCA\n",
        "    try:\n",
        "        lca_index_in_path1 = path1.index(lca)\n",
        "        dist1 = lca_index_in_path1\n",
        "    except ValueError:\n",
        "        dist1 = 0\n",
        "\n",
        "    # distance from v2 to LCA\n",
        "    try:\n",
        "        lca_index_in_path2 = path2.index(lca)\n",
        "        dist2 = lca_index_in_path2\n",
        "    except ValueError:\n",
        "        dist2 = 0\n",
        "\n",
        "    # Total path length\n",
        "    L = dist1 + dist2\n",
        "\n",
        "    return L\n",
        "\n",
        "\n"
      ]
    },
    {
      "cell_type": "code",
      "source": [
        "# confirmations\n",
        "\n",
        "v1 = \"State-gov\"\n",
        "v2 = \"Federal-gov\"\n",
        "lca = find_lca(v1, v2, inverted_taxonomy_tree)\n",
        "print(f\"LCA of '{v1}' and '{v2}': {lca}\")\n",
        "print(f\"Expected: 'Government'\")\n",
        "print(f\"Path1: {inverted_taxonomy_tree[v1]}\")\n",
        "print(f\"Path2: {inverted_taxonomy_tree[v2]}\")\n",
        "\n",
        "v1 = \"State-gov\"\n",
        "v2 = \"Private\"\n",
        "lca = find_lca(v1, v2, inverted_taxonomy_tree)\n",
        "print(f\"\\nLCA of '{v1}' and '{v2}': {lca}\")\n",
        "print(f\"Expected: 'workclass' \")\n",
        "print(f\"Path1: {inverted_taxonomy_tree[v1]}\")\n",
        "print(f\"Path2: {inverted_taxonomy_tree[v2]}\")"
      ],
      "metadata": {
        "id": "hDFBP34w3aqo",
        "outputId": "656d7cb1-4637-4bcf-cbdf-4da26b1c2ef6",
        "colab": {
          "base_uri": "https://localhost:8080/"
        }
      },
      "id": "hDFBP34w3aqo",
      "execution_count": 32,
      "outputs": [
        {
          "output_type": "stream",
          "name": "stdout",
          "text": [
            "LCA of 'State-gov' and 'Federal-gov': Government\n",
            "Expected: 'Government'\n",
            "Path1: ['State-gov', 'Government', 'workclass']\n",
            "Path2: ['Federal-gov', 'Government', 'workclass']\n",
            "\n",
            "LCA of 'State-gov' and 'Private': None\n",
            "Expected: 'workclass' \n",
            "Path1: ['State-gov', 'Government', 'workclass']\n",
            "Path2: ['Private', 'Private Sector', 'workclass']\n"
          ]
        }
      ]
    },
    {
      "cell_type": "code",
      "source": [
        "v1 = \"Masters\"\n",
        "v2 = \"Doctorate\"\n",
        "lca = find_lca(v1, v2, inverted_taxonomy_tree)\n",
        "print(f\"LCA of '{v1}' and '{v2}': {lca}\")\n",
        "print(f\"Expected: 'Graduate'\")\n",
        "print(f\"Path1: {inverted_taxonomy_tree[v1]}\")\n",
        "print(f\"Path2: {inverted_taxonomy_tree[v2]}\")\n",
        "\n",
        "v1 = \"Masters\"\n",
        "v2 = \"Bachelors\"\n",
        "lca = find_lca(v1, v2, inverted_taxonomy_tree)\n",
        "print(f\"\\nLCA of '{v1}' and '{v2}': {lca}\")\n",
        "print(f\"Expected: 'University'\")\n",
        "print(f\"Path1: {inverted_taxonomy_tree[v1]}\")\n",
        "print(f\"Path2: {inverted_taxonomy_tree[v2]}\")\n",
        "\n",
        "v1 = \"Masters\"\n",
        "v2 = \"HS-grad\"\n",
        "lca = find_lca(v1, v2, inverted_taxonomy_tree)\n",
        "print(f\"\\nLCA of '{v1}' and '{v2}': {lca}\")\n",
        "print(f\"Expected: 'education' or 'Post-Secondary' and 'Secondary' common parent\")\n",
        "print(f\"Path1: {inverted_taxonomy_tree[v1]}\")\n",
        "print(f\"Path2: {inverted_taxonomy_tree[v2]}\")"
      ],
      "metadata": {
        "id": "CnaxLlHF3fYy",
        "outputId": "dfd93e68-5bae-4b46-da8a-3d34f2e2cc42",
        "colab": {
          "base_uri": "https://localhost:8080/"
        }
      },
      "id": "CnaxLlHF3fYy",
      "execution_count": 33,
      "outputs": [
        {
          "output_type": "stream",
          "name": "stdout",
          "text": [
            "LCA of 'Masters' and 'Doctorate': Graduate\n",
            "Expected: 'Graduate'\n",
            "Path1: ['Masters', 'Graduate', 'University', 'Post-Secondary', 'education']\n",
            "Path2: ['Doctorate', 'Graduate', 'University', 'Post-Secondary', 'education']\n",
            "\n",
            "LCA of 'Masters' and 'Bachelors': University\n",
            "Expected: 'University'\n",
            "Path1: ['Masters', 'Graduate', 'University', 'Post-Secondary', 'education']\n",
            "Path2: ['Bachelors', 'Bachelor', 'University', 'Post-Secondary', 'education']\n",
            "\n",
            "LCA of 'Masters' and 'HS-grad': None\n",
            "Expected: 'education' or 'Post-Secondary' and 'Secondary' common parent\n",
            "Path1: ['Masters', 'Graduate', 'University', 'Post-Secondary', 'education']\n",
            "Path2: ['HS-grad', 'HS-grad', 'Senior', 'Secondary', 'education']\n"
          ]
        }
      ]
    },
    {
      "cell_type": "code",
      "source": [
        "# tree height\n",
        "\n",
        "for attr in ['workclass', 'education', 'sex', 'race', 'marital-status', 'occupation']:\n",
        "    height = get_tree_height(attr, inverted_taxonomy_tree)\n",
        "    print(f\"Height of '{attr}' taxonomy tree: {height}\")"
      ],
      "metadata": {
        "id": "ghOMEpRS3hta",
        "outputId": "fa7d5761-4c5b-4962-9028-f38c95e8855d",
        "colab": {
          "base_uri": "https://localhost:8080/"
        }
      },
      "id": "ghOMEpRS3hta",
      "execution_count": 34,
      "outputs": [
        {
          "output_type": "stream",
          "name": "stdout",
          "text": [
            "Height of 'workclass' taxonomy tree: 2\n",
            "Height of 'education' taxonomy tree: 4\n",
            "Height of 'sex' taxonomy tree: 1\n",
            "Height of 'race' taxonomy tree: 1\n",
            "Height of 'marital-status' taxonomy tree: 2\n",
            "Height of 'occupation' taxonomy tree: 2\n"
          ]
        }
      ]
    },
    {
      "cell_type": "code",
      "source": [
        "# Same values\n",
        "v1 = \"Masters\"\n",
        "v2 = \"Masters\"\n",
        "L = path_length_between(v1, v2, inverted_taxonomy_tree)\n",
        "print(f\"Path length between '{v1}' and '{v2}': {L}\")\n",
        "print(f\"Expected: 0 (same value)\")"
      ],
      "metadata": {
        "id": "w7U75RSE3jso",
        "outputId": "9101978b-80a2-4e29-b2c9-661c9dd67fb7",
        "colab": {
          "base_uri": "https://localhost:8080/"
        }
      },
      "id": "w7U75RSE3jso",
      "execution_count": 35,
      "outputs": [
        {
          "output_type": "stream",
          "name": "stdout",
          "text": [
            "Path length between 'Masters' and 'Masters': 0\n",
            "Expected: 0 (same value)\n"
          ]
        }
      ]
    },
    {
      "cell_type": "code",
      "source": [
        "# too far apart\n",
        "v1 = \"Masters\"\n",
        "v2 = \"HS-grad\"\n",
        "L = path_length_between(v1, v2, inverted_taxonomy_tree)\n",
        "print(f\"\\nPath length between '{v1}' and '{v2}': {L}\")\n",
        "print(f\"Path1: {inverted_taxonomy_tree[v1]}\")\n",
        "print(f\"Path2: {inverted_taxonomy_tree[v2]}\")"
      ],
      "metadata": {
        "id": "YgiGS-Ju3mLX",
        "outputId": "668d9b5c-f6f1-4975-8c77-5282522c3a43",
        "colab": {
          "base_uri": "https://localhost:8080/"
        }
      },
      "id": "YgiGS-Ju3mLX",
      "execution_count": 36,
      "outputs": [
        {
          "output_type": "stream",
          "name": "stdout",
          "text": [
            "\n",
            "Path length between 'Masters' and 'HS-grad': inf\n",
            "Path1: ['Masters', 'Graduate', 'University', 'Post-Secondary', 'education']\n",
            "Path2: ['HS-grad', 'HS-grad', 'Senior', 'Secondary', 'education']\n"
          ]
        }
      ]
    },
    {
      "cell_type": "markdown",
      "source": [
        "# Distance"
      ],
      "metadata": {
        "id": "OXlFxjzM3r1E"
      },
      "id": "OXlFxjzM3r1E"
    },
    {
      "cell_type": "code",
      "source": [
        "def categorical_distance(v1, v2, attr_name, inverted_taxonomy_tree):\n",
        "    \"\"\"\n",
        "    Equation (5): Path-based distance between two categorical values\n",
        "    d(v, v') = L(v, v') / (2H)\n",
        "\n",
        "    \"\"\"\n",
        "    if v1 == v2:\n",
        "        return 0.0\n",
        "\n",
        "    # Get path length L(v1, v2)\n",
        "    L = path_length_between(v1, v2, inverted_taxonomy_tree)\n",
        "\n",
        "    if L == float('inf'):\n",
        "        return 1.0\n",
        "\n",
        "    # Get tree height H\n",
        "    H = get_tree_height(attr_name, inverted_taxonomy_tree)\n",
        "\n",
        "    if H == 0:\n",
        "        return 0.0\n",
        "\n",
        "    # Return normalized distance\n",
        "    distance = L / (2.0 * H)\n",
        "\n",
        "    return distance\n",
        "\n",
        "\n",
        "def qid_distance(qid1, qid2, attr_names, inverted_taxonomy_tree, weights=None):\n",
        "    \"\"\"\n",
        "    Equation (6): Distance between two quasi-identifiers (records)\n",
        "    d(qid, qid') = Σ(ωᵢ × d(vᵢ, v'ᵢ))\n",
        "\n",
        "    \"\"\"\n",
        "    m = len(qid1)\n",
        "\n",
        "    if weights is None:\n",
        "        weights = [1.0 / m] * m\n",
        "\n",
        "    total_distance = 0.0\n",
        "\n",
        "    for i in range(m):\n",
        "        # Calculate distance for this attribute\n",
        "        cat_dist = categorical_distance(\n",
        "            qid1[i],\n",
        "            qid2[i],\n",
        "            attr_names[i],\n",
        "            inverted_taxonomy_tree\n",
        "        )\n",
        "        total_distance += weights[i] * cat_dist\n",
        "\n",
        "    return total_distance\n",
        "\n",
        "\n",
        "def cluster_distance(cluster1, cluster2, k, attr_names, inverted_taxonomy_tree, theta=None):\n",
        "    \"\"\"\n",
        "    Equation (8): Flexible distance between two clusters\n",
        "    d(C, C') = (θ × Δ + 1) × max{d(qid, qid')}\n",
        "    where Δ = |C| + |C'| - k\n",
        "\n",
        "    \"\"\"\n",
        "    if theta is None:\n",
        "        theta = 1.0 / k\n",
        "\n",
        "    # Calculate Δ (delta)\n",
        "    delta = len(cluster1) + len(cluster2) - k\n",
        "\n",
        "    # Find maximum pairwise distance (diameter of merged cluster)\n",
        "    max_distance = 0.0\n",
        "    for qid1 in cluster1.records:\n",
        "        for qid2 in cluster2.records:\n",
        "            dist = qid_distance(qid1, qid2, attr_names, inverted_taxonomy_tree)\n",
        "            max_distance = max(max_distance, dist)\n",
        "\n",
        "    # Apply flexible distance formula\n",
        "    flexible_distance = (theta * delta + 1) * max_distance\n",
        "\n",
        "    return flexible_distance"
      ],
      "metadata": {
        "id": "KLYRrHO-3m_3"
      },
      "id": "KLYRrHO-3m_3",
      "execution_count": 37,
      "outputs": []
    },
    {
      "cell_type": "code",
      "source": [
        "print(\"TEST 2: DISTANCE FUNCTIONS\")\n",
        "\n",
        "categorical_cols = ['workclass', 'education', 'marital-status', 'occupation',\n",
        "                    'relationship', 'race', 'sex', 'native-country']\n",
        "\n",
        "# Get first two records\n",
        "record1 = df[categorical_cols].iloc[0].tolist()\n",
        "record2 = df[categorical_cols].iloc[1].tolist()\n",
        "\n",
        "# Strip whitespace\n",
        "record1 = [s.strip() if isinstance(s, str) else s for s in record1]\n",
        "record2 = [s.strip() if isinstance(s, str) else s for s in record2]\n",
        "\n",
        "print(\"\\n[Test 2.1] Categorical Distance\")\n",
        "print(\"-\" * 50)\n",
        "print(f\"Record 1 workclass: {record1[0]}\")\n",
        "print(f\"Record 2 workclass: {record2[0]}\")\n",
        "\n",
        "dist = categorical_distance(record1[0], record2[0], 'workclass', inverted_taxonomy_tree)\n",
        "print(f\"Categorical distance: {dist:.4f}\")\n",
        "\n",
        "print(f\"\\nRecord 1 education: {record1[1]}\")\n",
        "print(f\"Record 2 education: {record2[1]}\")\n",
        "dist = categorical_distance(record1[1], record2[1], 'education', inverted_taxonomy_tree)\n",
        "print(f\"Categorical distance: {dist:.4f}\")\n",
        "\n",
        "print(\"\\n[Test 2.2] QID Distance\")\n",
        "print(\"-\" * 50)\n",
        "print(f\"Record 1: {record1}\")\n",
        "print(f\"Record 2: {record2}\")\n",
        "dist = qid_distance(record1, record2, categorical_cols, inverted_taxonomy_tree)\n",
        "print(f\"QID distance: {dist:.4f}\")"
      ],
      "metadata": {
        "id": "EL7XOlHR30aG",
        "outputId": "1821a94f-f733-4c74-9002-ff0f24a13385",
        "colab": {
          "base_uri": "https://localhost:8080/"
        }
      },
      "id": "EL7XOlHR30aG",
      "execution_count": 38,
      "outputs": [
        {
          "output_type": "stream",
          "name": "stdout",
          "text": [
            "TEST 2: DISTANCE FUNCTIONS\n",
            "\n",
            "[Test 2.1] Categorical Distance\n",
            "--------------------------------------------------\n",
            "Record 1 workclass: State-gov\n",
            "Record 2 workclass: Self-emp-not-inc\n",
            "Categorical distance: 1.0000\n",
            "\n",
            "Record 1 education: Bachelors\n",
            "Record 2 education: Bachelors\n",
            "Categorical distance: 0.0000\n",
            "\n",
            "[Test 2.2] QID Distance\n",
            "--------------------------------------------------\n",
            "Record 1: ['State-gov', 'Bachelors', 'Never-married', 'Adm-clerical', 'Not-in-family', 'White', 'Male', 'United-States']\n",
            "Record 2: ['Self-emp-not-inc', 'Bachelors', 'Married-civ-spouse', 'Exec-managerial', 'Husband', 'White', 'Male', 'United-States']\n",
            "QID distance: 0.4375\n"
          ]
        }
      ]
    },
    {
      "cell_type": "code",
      "source": [
        "class Cluster:\n",
        "    \"\"\"\n",
        "    Represents a cluster of quasi-identifiers (data records)\n",
        "    \"\"\"\n",
        "\n",
        "    def __init__(self, records):\n",
        "\n",
        "        self.records = records\n",
        "\n",
        "    def __len__(self):\n",
        "        # Return number of records in cluster\n",
        "        return len(self.records)\n",
        "\n",
        "    def merge(self, other_cluster):\n",
        "\n",
        "        # Merge two clusters into one\n",
        "\n",
        "        return Cluster(self.records + other_cluster.records)\n",
        "\n",
        "    def __repr__(self):\n",
        "        return f\"Cluster(size={len(self.records)})\""
      ],
      "metadata": {
        "id": "sIJ5twFZ33n6"
      },
      "id": "sIJ5twFZ33n6",
      "execution_count": 39,
      "outputs": []
    },
    {
      "cell_type": "code",
      "source": [
        "print(\"TEST 3: CLUSTER CLASS\")\n",
        "\n",
        "\n",
        "# Create test clusters\n",
        "records1 = [record1, record2]\n",
        "records2 = df[categorical_cols].iloc[2:4].values.tolist()\n",
        "records2 = [[s.strip() if isinstance(s, str) else s for s in rec] for rec in records2]\n",
        "\n",
        "cluster1 = Cluster(records1)\n",
        "cluster2 = Cluster(records2)\n",
        "\n",
        "print(f\"\\nCluster 1: {cluster1}\")\n",
        "print(f\"  Records: {len(cluster1.records)}\")\n",
        "\n",
        "print(f\"\\nCluster 2: {cluster2}\")\n",
        "print(f\"  Records: {len(cluster2.records)}\")\n",
        "\n",
        "# Test merge\n",
        "merged = cluster1.merge(cluster2)\n",
        "print(f\"\\nMerged cluster: {merged}\")\n",
        "print(f\"  Records: {len(merged.records)}\")\n",
        "print(f\"Expected: 4 records\")"
      ],
      "metadata": {
        "id": "7rdHTnWc35w4",
        "outputId": "c958cf5a-2280-4f34-9b29-19c23a4c0b74",
        "colab": {
          "base_uri": "https://localhost:8080/"
        }
      },
      "id": "7rdHTnWc35w4",
      "execution_count": 40,
      "outputs": [
        {
          "output_type": "stream",
          "name": "stdout",
          "text": [
            "TEST 3: CLUSTER CLASS\n",
            "\n",
            "Cluster 1: Cluster(size=2)\n",
            "  Records: 2\n",
            "\n",
            "Cluster 2: Cluster(size=2)\n",
            "  Records: 2\n",
            "\n",
            "Merged cluster: Cluster(size=4)\n",
            "  Records: 4\n",
            "Expected: 4 records\n"
          ]
        }
      ]
    },
    {
      "cell_type": "code",
      "source": [
        "import heapq\n",
        "\n",
        "def beta_ac(small_clusters, k, attr_names, inverted_taxonomy_tree, theta=None):\n",
        "    \"\"\"\n",
        "    Algorithm 6: Beta-cluster based Agglomerative Clustering\n",
        "\n",
        "    \"\"\"\n",
        "    if theta is None:\n",
        "        theta = 1.0 / k\n",
        "    k_member_clusters = []\n",
        "    remaining_cluster = None\n",
        "\n",
        "    active_clusters = {i: cluster for i, cluster in enumerate(small_clusters)}\n",
        "\n",
        "    pqueue = []\n",
        "\n",
        "    cluster_ids = list(active_clusters.keys())\n",
        "    for i in range(len(cluster_ids)):\n",
        "        for j in range(i + 1, len(cluster_ids)):\n",
        "            id1, id2 = cluster_ids[i], cluster_ids[j]\n",
        "            dist = cluster_distance(\n",
        "                active_clusters[id1],\n",
        "                active_clusters[id2],\n",
        "                k,\n",
        "                attr_names,\n",
        "                inverted_taxonomy_tree,\n",
        "                theta\n",
        "            )\n",
        "            heapq.heappush(pqueue, (dist, id1, id2))\n",
        "\n",
        "    next_id = max(active_clusters.keys()) + 1 if active_clusters else 0\n",
        "\n",
        "    # Main merging loop\n",
        "    while pqueue:\n",
        "        # Extract pair with minimum distance\n",
        "        dist, id_x, id_y = heapq.heappop(pqueue)\n",
        "\n",
        "        # Skip if either cluster was already merged (no longer active)\n",
        "        if id_x not in active_clusters or id_y not in active_clusters:\n",
        "            continue\n",
        "\n",
        "        # Get the two clusters and merge them\n",
        "        cluster_x = active_clusters[id_x]\n",
        "        cluster_y = active_clusters[id_y]\n",
        "        cluster_z = cluster_x.merge(cluster_y)\n",
        "\n",
        "        del active_clusters[id_x]\n",
        "        del active_clusters[id_y]\n",
        "\n",
        "\n",
        "        if len(cluster_z) >= k:\n",
        "            k_member_clusters.append(cluster_z)\n",
        "        else:\n",
        "            new_id = next_id\n",
        "            next_id += 1\n",
        "            active_clusters[new_id] = cluster_z\n",
        "\n",
        "            for other_id, other_cluster in active_clusters.items():\n",
        "                if other_id != new_id:\n",
        "                    new_dist = cluster_distance(\n",
        "                        cluster_z,\n",
        "                        other_cluster,\n",
        "                        k,\n",
        "                        attr_names,\n",
        "                        inverted_taxonomy_tree,\n",
        "                        theta\n",
        "                    )\n",
        "                    heapq.heappush(pqueue, (new_dist, new_id, other_id))\n",
        "\n",
        "    if len(active_clusters) == 1:\n",
        "        remaining_id = list(active_clusters.keys())[0]\n",
        "        remaining_cluster = active_clusters[remaining_id]\n",
        "\n",
        "    return k_member_clusters, remaining_cluster"
      ],
      "metadata": {
        "id": "tK-fcVzk37vK"
      },
      "id": "tK-fcVzk37vK",
      "execution_count": 41,
      "outputs": []
    },
    {
      "cell_type": "code",
      "source": [
        "print(\"TEST 4: ALGORITHM 6 - BETA-AC\")\n",
        "\n",
        "# Prepare small clusters\n",
        "k = 5\n",
        "n_records = 20\n",
        "\n",
        "sample_data = df[categorical_cols].iloc[:n_records].values.tolist()\n",
        "sample_data = [[s.strip() if isinstance(s, str) else s for s in rec] for rec in sample_data]\n",
        "\n",
        "# small clusters (each < k)\n",
        "small_clusters = []\n",
        "cluster_size = 2  # Each initial cluster has 2 records\n",
        "\n",
        "for i in range(0, n_records, cluster_size):\n",
        "    records = sample_data[i:i+cluster_size]\n",
        "    if records:\n",
        "        small_clusters.append(Cluster(records))\n",
        "\n",
        "print(f\"\\n[Input]\")\n",
        "print(f\"k = {k}\")\n",
        "print(f\"Number of small clusters: {len(small_clusters)}\")\n",
        "print(f\"Small cluster sizes: {[len(c) for c in small_clusters]}\")\n",
        "\n",
        "k_member_clusters, remaining_cluster = beta_ac(\n",
        "    small_clusters,\n",
        "    k,\n",
        "    categorical_cols,\n",
        "    inverted_taxonomy_tree\n",
        ")\n",
        "\n",
        "print(f\"\\n[Output]\")\n",
        "print(f\"Number of k-member clusters: {len(k_member_clusters)}\")\n",
        "print(f\"k-member cluster sizes: {[len(c) for c in k_member_clusters]}\")\n",
        "\n",
        "if remaining_cluster:\n",
        "    print(f\"Remaining cluster size: {len(remaining_cluster)}\")\n",
        "else:\n",
        "    print(f\"No remaining cluster\")\n",
        "\n",
        "# Verify constraints\n",
        "print(f\"\\n[Verification]\")\n",
        "all_valid = True\n",
        "for i, cluster in enumerate(k_member_clusters):\n",
        "    size = len(cluster)\n",
        "    is_valid = k <= size <= 2*k - 1\n",
        "    print(f\"Cluster {i}: size={size}, valid={is_valid} (should be {k} <= size <= {2*k-1})\")\n",
        "    if not is_valid:\n",
        "        all_valid = False\n",
        "\n",
        "if remaining_cluster and len(remaining_cluster) >= k:\n",
        "    print(f\"WARNING: Remaining cluster has size >= k!\")\n",
        "    all_valid = False\n",
        "\n",
        "print(f\"\\nAll constraints satisfied: {all_valid}\")\n",
        "\n",
        "# Check total records preserved\n",
        "total_input = sum(len(c) for c in small_clusters)\n",
        "total_output = sum(len(c) for c in k_member_clusters)\n",
        "if remaining_cluster:\n",
        "    total_output += len(remaining_cluster)\n",
        "\n",
        "print(f\"\\nRecords in: {total_input}\")\n",
        "print(f\"Records out: {total_output}\")\n",
        "print(f\"All records preserved: {total_input == total_output}\")"
      ],
      "metadata": {
        "id": "CzcjLJYs3_eM",
        "outputId": "ff133ba7-a419-406b-a420-4f77251bd182",
        "colab": {
          "base_uri": "https://localhost:8080/"
        }
      },
      "id": "CzcjLJYs3_eM",
      "execution_count": 42,
      "outputs": [
        {
          "output_type": "stream",
          "name": "stdout",
          "text": [
            "TEST 4: ALGORITHM 6 - BETA-AC\n",
            "\n",
            "[Input]\n",
            "k = 5\n",
            "Number of small clusters: 10\n",
            "Small cluster sizes: [2, 2, 2, 2, 2, 2, 2, 2, 2, 2]\n",
            "\n",
            "[Output]\n",
            "Number of k-member clusters: 2\n",
            "k-member cluster sizes: [8, 8]\n",
            "Remaining cluster size: 4\n",
            "\n",
            "[Verification]\n",
            "Cluster 0: size=8, valid=True (should be 5 <= size <= 9)\n",
            "Cluster 1: size=8, valid=True (should be 5 <= size <= 9)\n",
            "\n",
            "All constraints satisfied: True\n",
            "\n",
            "Records in: 20\n",
            "Records out: 20\n",
            "All records preserved: True\n"
          ]
        }
      ]
    },
    {
      "cell_type": "code",
      "source": [
        "def run_all_tests():\n",
        "\n",
        "    print(\"ALGORITHM 6 - COMPLETE TEST SUITE\")\n",
        "\n",
        "    # Setup\n",
        "    categorical_cols = ['workclass', 'education', 'marital-status', 'occupation',\n",
        "                        'relationship', 'race', 'sex', 'native-country']\n",
        "\n",
        "    # Test 1: Helper Functions\n",
        "    print(\"\\n\" + \"=\" * 70)\n",
        "    print(\"TEST 1: HELPER FUNCTIONS\")\n",
        "    print(\"=\" * 70)\n",
        "\n",
        "    lca = find_lca(\"Masters\", \"Doctorate\", inverted_taxonomy_tree)\n",
        "    print(f\" LCA('Masters', 'Doctorate'): {lca}\")\n",
        "\n",
        "    height = get_tree_height(\"education\", inverted_taxonomy_tree)\n",
        "    print(f\" Tree height for 'education': {height}\")\n",
        "\n",
        "    L = path_length_between(\"Masters\", \"Bachelors\", inverted_taxonomy_tree)\n",
        "    print(f\" Path length between 'Masters' and 'Bachelors': {L}\")\n",
        "\n",
        "    # Test 2: Distance Functions\n",
        "    print(\"\\n\" + \"=\" * 70)\n",
        "    print(\"TEST 2: DISTANCE FUNCTIONS\")\n",
        "    print(\"=\" * 70)\n",
        "\n",
        "    record1 = df[categorical_cols].iloc[0].tolist()\n",
        "    record2 = df[categorical_cols].iloc[1].tolist()\n",
        "    record1 = [s.strip() if isinstance(s, str) else s for s in record1]\n",
        "    record2 = [s.strip() if isinstance(s, str) else s for s in record2]\n",
        "\n",
        "    cat_dist = categorical_distance(record1[1], record2[1], 'education', inverted_taxonomy_tree)\n",
        "    print(f\" Categorical distance: {cat_dist:.4f}\")\n",
        "\n",
        "    qid_dist = qid_distance(record1, record2, categorical_cols, inverted_taxonomy_tree)\n",
        "    print(f\" QID distance: {qid_dist:.4f}\")\n",
        "\n",
        "    cluster1 = Cluster([record1])\n",
        "    cluster2 = Cluster([record2])\n",
        "    clust_dist = cluster_distance(cluster1, cluster2, 5, categorical_cols, inverted_taxonomy_tree)\n",
        "    print(f\" Cluster distance: {clust_dist:.4f}\")\n",
        "\n",
        "    # Test 3: Algorithm 6\n",
        "    print(\"\\n\" + \"=\" * 70)\n",
        "    print(\"TEST 3: ALGORITHM 6\")\n",
        "    print(\"=\" * 70)\n",
        "\n",
        "    k = 5\n",
        "    n_records = 20\n",
        "    sample_data = df[categorical_cols].iloc[:n_records].values.tolist()\n",
        "    sample_data = [[s.strip() if isinstance(s, str) else s for s in rec] for rec in sample_data]\n",
        "\n",
        "    small_clusters = []\n",
        "    for i in range(0, n_records, 2):\n",
        "        records = sample_data[i:i+2]\n",
        "        if records:\n",
        "            small_clusters.append(Cluster(records))\n",
        "\n",
        "    print(f\"Input: {len(small_clusters)} small clusters (sizes: {[len(c) for c in small_clusters]})\")\n",
        "\n",
        "    k_member_clusters, remaining_cluster = beta_ac(\n",
        "        small_clusters,\n",
        "        k,\n",
        "        categorical_cols,\n",
        "        inverted_taxonomy_tree\n",
        "    )\n",
        "\n",
        "    print(f\"Output: {len(k_member_clusters)} k-member clusters\")\n",
        "    print(f\"Cluster sizes: {[len(c) for c in k_member_clusters]}\")\n",
        "\n",
        "    if remaining_cluster:\n",
        "        print(f\"Remaining: {len(remaining_cluster)} records\")\n",
        "\n",
        "    # Verification\n",
        "    all_valid = all(k <= len(c) <= 2*k-1 for c in k_member_clusters)\n",
        "    total_in = sum(len(c) for c in small_clusters)\n",
        "    total_out = sum(len(c) for c in k_member_clusters) + (len(remaining_cluster) if remaining_cluster else 0)\n",
        "\n",
        "    print(f\"\\nAll size constraints satisfied: {all_valid}\")\n",
        "    print(f\" All records preserved: {total_in == total_out} ({total_in} in, {total_out} out)\")\n",
        "\n",
        "run_all_tests()"
      ],
      "metadata": {
        "id": "X8fvPLcW4DY9",
        "outputId": "c1d5a5a8-7f00-40f1-acf6-210233692f7b",
        "colab": {
          "base_uri": "https://localhost:8080/"
        }
      },
      "id": "X8fvPLcW4DY9",
      "execution_count": 43,
      "outputs": [
        {
          "output_type": "stream",
          "name": "stdout",
          "text": [
            "ALGORITHM 6 - COMPLETE TEST SUITE\n",
            "\n",
            "======================================================================\n",
            "TEST 1: HELPER FUNCTIONS\n",
            "======================================================================\n",
            " LCA('Masters', 'Doctorate'): Graduate\n",
            " Tree height for 'education': 4\n",
            " Path length between 'Masters' and 'Bachelors': 4\n",
            "\n",
            "======================================================================\n",
            "TEST 2: DISTANCE FUNCTIONS\n",
            "======================================================================\n",
            " Categorical distance: 0.0000\n",
            " QID distance: 0.4375\n",
            " Cluster distance: 0.1750\n",
            "\n",
            "======================================================================\n",
            "TEST 3: ALGORITHM 6\n",
            "======================================================================\n",
            "Input: 10 small clusters (sizes: [2, 2, 2, 2, 2, 2, 2, 2, 2, 2])\n",
            "Output: 2 k-member clusters\n",
            "Cluster sizes: [8, 8]\n",
            "Remaining: 4 records\n",
            "\n",
            "All size constraints satisfied: True\n",
            " All records preserved: True (20 in, 20 out)\n"
          ]
        }
      ]
    },
    {
      "cell_type": "code",
      "source": [
        "# Example: Anonymizing a subset of our Adult dataset\n",
        "\n",
        "# 1. Prepare data\n",
        "categorical_cols = ['workclass', 'education', 'marital-status', 'occupation',\n",
        "                    'relationship', 'race', 'sex', 'native-country']\n",
        "\n",
        "# 2. Get records\n",
        "n_records = 100\n",
        "sample_data = df[categorical_cols].iloc[:n_records].values.tolist()\n",
        "sample_data = [[s.strip() if isinstance(s, str) else s for s in rec] for rec in sample_data]\n",
        "\n",
        "# 3. Create initial small clusters (simulate output from LSH partitioning)\n",
        "# In real implementation, these would come from Algorithm 5\n",
        "small_cluster_size = 3\n",
        "small_clusters = []\n",
        "for i in range(0, len(sample_data), small_cluster_size):\n",
        "    records = sample_data[i:i+small_cluster_size]\n",
        "    if records:\n",
        "        small_clusters.append(Cluster(records))\n",
        "\n",
        "# 4. Set parameters\n",
        "k = 10  # k-anonymity parameter\n",
        "theta = 1.0 / k  # Weight parameter\n",
        "\n",
        "# 5. Run Algorithm 6\n",
        "print(f\"Running Beta-AC with k={k} on {len(small_clusters)} small clusters...\")\n",
        "k_member_clusters, remaining_cluster = beta_ac(\n",
        "    small_clusters,\n",
        "    k,\n",
        "    categorical_cols,\n",
        "    inverted_taxonomy_tree,\n",
        "    theta\n",
        ")\n",
        "\n",
        "# 6. Results\n",
        "print(f\"\\nResults:\")\n",
        "print(f\"  k-member clusters: {len(k_member_clusters)}\")\n",
        "print(f\"  Cluster sizes: {[len(c) for c in k_member_clusters]}\")\n",
        "if remaining_cluster:\n",
        "    print(f\"  Remaining records: {len(remaining_cluster)}\")"
      ],
      "metadata": {
        "id": "aPnYlODD4J8K",
        "outputId": "b32fca16-eb0f-4308-fa10-91788daf4b55",
        "colab": {
          "base_uri": "https://localhost:8080/"
        }
      },
      "id": "aPnYlODD4J8K",
      "execution_count": 44,
      "outputs": [
        {
          "output_type": "stream",
          "name": "stdout",
          "text": [
            "Running Beta-AC with k=10 on 34 small clusters...\n",
            "\n",
            "Results:\n",
            "  k-member clusters: 8\n",
            "  Cluster sizes: [12, 12, 12, 12, 12, 12, 13, 15]\n"
          ]
        }
      ]
    }
  ],
  "metadata": {
    "kernelspec": {
      "display_name": "Python 3",
      "language": "python",
      "name": "python3"
    },
    "language_info": {
      "codemirror_mode": {
        "name": "ipython",
        "version": 3
      },
      "file_extension": ".py",
      "mimetype": "text/x-python",
      "name": "python",
      "nbconvert_exporter": "python",
      "pygments_lexer": "ipython3",
      "version": "3.12.9"
    },
    "colab": {
      "provenance": []
    }
  },
  "nbformat": 4,
  "nbformat_minor": 5
}